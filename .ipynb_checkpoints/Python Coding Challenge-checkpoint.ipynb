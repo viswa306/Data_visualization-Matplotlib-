{
 "cells": [
  {
   "cell_type": "markdown",
   "metadata": {},
   "source": [
    "### Basics of Python\n",
    "\n",
    "Fill valid code/values in place of blanks. "
   ]
  },
  {
   "cell_type": "raw",
   "metadata": {},
   "source": [
    "# Demo\n",
    "# initialize variable 'msg' with the string 'Hello World'\n",
    "msg = _____\n",
    "\n",
    "# Solution\n",
    "msg = \"Hello World\""
   ]
  },
  {
   "cell_type": "code",
   "execution_count": null,
   "metadata": {},
   "outputs": [],
   "source": [
    "# initialize variables 'a' and 'b' with 5 and 6 respectively\n",
    "a = 5 \n",
    "b = 6\n",
    "# add 'a' and 'b' and assign the result into a new variable 'c'\n",
    "c = a + b\n",
    "print(c)"
   ]
  },
  {
   "cell_type": "code",
   "execution_count": null,
   "metadata": {},
   "outputs": [],
   "source": [
    "# build a function to add 2 numbers\n",
    "def addition(x,y):\n",
    "    return(x+y)\n",
    "\n",
    "# use the function 'addition' to add 'a' and 'b'\n",
    "addition(4,5)"
   ]
  },
  {
   "cell_type": "code",
   "execution_count": null,
   "metadata": {},
   "outputs": [],
   "source": [
    "# create a list consisting of first 5 even numbers and print the list\n",
    "my_list = [10,20,30,40,50]\n",
    "print(my_list)"
   ]
  },
  {
   "cell_type": "code",
   "execution_count": null,
   "metadata": {},
   "outputs": [],
   "source": [
    "# access the 3rd element of the list 'my_list'\n",
    "my_list[2]"
   ]
  },
  {
   "cell_type": "code",
   "execution_count": null,
   "metadata": {},
   "outputs": [],
   "source": [
    "# given below is a dictionary having 4 unique keys, i.e., 'name', 'age', 'gender', 'is_employed'\n",
    "my_dict = {'name':'Smith',\n",
    "           'age':34,\n",
    "           'gender': 'Male',\n",
    "           'is_employed': False}\n",
    "\n",
    "# print 'my_dict'\n",
    "print(my_dict)"
   ]
  },
  {
   "cell_type": "code",
   "execution_count": null,
   "metadata": {},
   "outputs": [],
   "source": [
    "# access value under 'name' key from 'my_dict'\n",
    "my_dict['name']"
   ]
  },
  {
   "cell_type": "code",
   "execution_count": null,
   "metadata": {},
   "outputs": [],
   "source": [
    "# update 'is_employed' key to True\n",
    "my_dict.update({'is_employed': True})\n",
    "\n",
    "# print the updated dictionary\n",
    "print(my_dict)"
   ]
  },
  {
   "cell_type": "code",
   "execution_count": null,
   "metadata": {},
   "outputs": [],
   "source": [
    "# use a for loop to print only even numbers from the first 20 numbers, i.e. 1-20\n",
    "for i in range(1,21):\n",
    "    if i % 2 == 0:\n",
    "        print(i)"
   ]
  },
  {
   "cell_type": "markdown",
   "metadata": {},
   "source": [
    "### Please download the file \"data_python.csv\"."
   ]
  },
  {
   "cell_type": "code",
   "execution_count": null,
   "metadata": {},
   "outputs": [],
   "source": [
    "# import required libraries\n",
    "import pandas as pd\n",
    "import numpy as np"
   ]
  },
  {
   "cell_type": "code",
   "execution_count": null,
   "metadata": {},
   "outputs": [],
   "source": [
    "## read data_python.csv using pandas\n",
    "mydata = pd.read_csv(\"data_python.csv\")"
   ]
  },
  {
   "cell_type": "code",
   "execution_count": null,
   "metadata": {},
   "outputs": [],
   "source": [
    "## print the number of rows and number of columns of mydata\n",
    "mydata.shape"
   ]
  },
  {
   "cell_type": "code",
   "execution_count": null,
   "metadata": {},
   "outputs": [],
   "source": [
    "## assign a variable 'target' with the 'Loan_Status' feature from mydata dataframe\n",
    "target = mydata['Loan_Status']"
   ]
  },
  {
   "cell_type": "code",
   "execution_count": null,
   "metadata": {},
   "outputs": [],
   "source": [
    "## print the datatype of ApplicantIncome feature\n",
    "print(mydata['ApplicantIncome'].dtype)"
   ]
  },
  {
   "cell_type": "code",
   "execution_count": null,
   "metadata": {},
   "outputs": [],
   "source": [
    "## conditional statement - print 'Yes' if the 21st element of 'Education' feature is 'Graduate' else print 'No'\n",
    "if(mydata['Education'][20] == 'Graduate'):\n",
    "    print('yes')\n",
    "else:\n",
    "    print('No')   "
   ]
  },
  {
   "cell_type": "code",
   "execution_count": null,
   "metadata": {},
   "outputs": [],
   "source": [
    "## print 31st to 35th rows of mydata\n",
    "mydata.iloc[31:36]"
   ]
  },
  {
   "cell_type": "code",
   "execution_count": null,
   "metadata": {},
   "outputs": [],
   "source": [
    "## print first 5 rows of 2nd and 3rd column only\n",
    "mydata.iloc[:6,1:3]"
   ]
  },
  {
   "cell_type": "code",
   "execution_count": null,
   "metadata": {},
   "outputs": [],
   "source": [
    "def fun(x):\n",
    "    x[0]=5\n",
    "    return(x)\n",
    "g =[10,11,12]\n",
    "print(fun(g),g)"
   ]
  },
  {
   "cell_type": "code",
   "execution_count": null,
   "metadata": {},
   "outputs": [],
   "source": [
    "import time\n",
    "str ='21/01/2017'\n",
    "date_time_value =time.strptime(str,\"%d/%m/%Y\")"
   ]
  },
  {
   "cell_type": "code",
   "execution_count": null,
   "metadata": {},
   "outputs": [],
   "source": [
    "a = [1,2,3,4,5]\n",
    "\n",
    "b = [6,7,8,9]\n",
    "c=a.extend(b)\n",
    "print(c)\n"
   ]
  },
  {
   "cell_type": "code",
   "execution_count": null,
   "metadata": {},
   "outputs": [],
   "source": [
    "a = [1,2,3,4,5]\n",
    "\n",
    "b = [6,7,8,9]\n",
    "a.append(b)\n",
    "print(c)\n"
   ]
  },
  {
   "cell_type": "code",
   "execution_count": null,
   "metadata": {},
   "outputs": [],
   "source": [
    "my_set ={1,True}\n",
    "\n",
    "print(my_set)"
   ]
  },
  {
   "cell_type": "code",
   "execution_count": null,
   "metadata": {},
   "outputs": [],
   "source": [
    "#What is the output of the following program?\n",
    "\n",
    "L1 = [10, 20, 30, 40]\n",
    "\n",
    "L2 = L1\n",
    "\n",
    "L3 = L1.copy()\n",
    "\n",
    "L4 = list(L1)\n",
    "\n",
    "L1[0] = [50]\n",
    "\n",
    "print(L1, L2, L3, L4)\n",
    "print(L2)\n",
    "print(L3)\n",
    "print(L4)"
   ]
  },
  {
   "cell_type": "code",
   "execution_count": null,
   "metadata": {},
   "outputs": [],
   "source": [
    "print(bool(0), bool(1.11), bool(-5))"
   ]
  },
  {
   "cell_type": "code",
   "execution_count": null,
   "metadata": {},
   "outputs": [],
   "source": [
    "for i in range(1,10):\n",
    "    if(i==5):\n",
    "        pass\n",
    "    else:\n",
    "        print(i,end =\"\")"
   ]
  },
  {
   "cell_type": "code",
   "execution_count": null,
   "metadata": {},
   "outputs": [],
   "source": [
    "#find  student marks percentages:\n",
    "if __name__ == '__main__':\n",
    "    n = int(input())\n",
    "    student_marks = {}\n",
    "    for _ in range(n):\n",
    "        name, *line = input().split()\n",
    "        scores = list(map(float, line))\n",
    "        student_marks[name] = scores\n",
    "    query_name = input()\n",
    "    if query_name in student_marks:\n",
    "        x = ((float(student_marks[query_name][0]) + float(student_marks[query_name][1]) + float(student_marks[query_name][2])) / 3)\n",
    "    \n",
    "    print('%.2f' % x)"
   ]
  },
  {
   "cell_type": "code",
   "execution_count": null,
   "metadata": {},
   "outputs": [],
   "source": [
    "#find  student marks percentages:\n",
    "if __name__ == '__main__':\n",
    "    n = int(input())\n",
    "    student_marks = {}\n",
    "    for _ in range(n):\n",
    "        name, *line = input().split()\n",
    "        print(\"name\")\n",
    "        scores = list(map(float, line))\n",
    "        student_marks[name] = scores\n",
    "    query_name = input()"
   ]
  },
  {
   "cell_type": "code",
   "execution_count": null,
   "metadata": {},
   "outputs": [
    {
     "name": "stdout",
     "output_type": "stream",
     "text": [
      "3\n",
      "aa 45 67 67 78\n",
      "name aa\n",
      "45 67 67 78\n",
      "[45.0, 67.0, 67.0, 78.0]\n",
      "[45.0, 67.0, 67.0, 78.0]\n",
      "45.0\n",
      "name 45.0\n",
      "\n",
      "[]\n",
      "[]\n"
     ]
    }
   ],
   "source": [
    "#find  student marks percentages:\n",
    "if __name__ == '__main__':\n",
    "    n = int(input())\n",
    "    student_marks = {}\n",
    "    for _ in range(n):\n",
    "        name, *line = input().split()\n",
    "        print(\"name\" ,name)\n",
    "        print(*line)\n",
    "        scores = list(map(float,line))\n",
    "        print(scores)\n",
    "        student_marks[name] = scores\n",
    "        print(student_marks[name])"
   ]
  }
 ],
 "metadata": {
  "kernelspec": {
   "display_name": "Python 3",
   "language": "python",
   "name": "python3"
  }
 },
 "nbformat": 4,
 "nbformat_minor": 2
}
