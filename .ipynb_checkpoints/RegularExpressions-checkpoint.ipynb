{
 "cells": [
  {
   "cell_type": "code",
   "execution_count": 3,
   "metadata": {},
   "outputs": [
    {
     "name": "stdout",
     "output_type": "stream",
     "text": [
      "Tiger\n"
     ]
    }
   ],
   "source": [
    "#import dependecies\n",
    "import re\n",
    "string = 'Tiger is the national animal of india'\n",
    "pattern ='Tiger'\n",
    "result = re.match(pattern,string).group(0)\n",
    "print(result)\n"
   ]
  },
  {
   "cell_type": "code",
   "execution_count": 14,
   "metadata": {},
   "outputs": [
    {
     "name": "stdout",
     "output_type": "stream",
     "text": [
      "Tiger\n"
     ]
    }
   ],
   "source": [
    "string = 'The national animal of india is Tiger'\n",
    "pattern ='Tiger'\n",
    "# result = re.findall(pattern,string)\n",
    "result = re.search(pattern,string).group(0)\n",
    "print(result)"
   ]
  },
  {
   "cell_type": "code",
   "execution_count": 12,
   "metadata": {},
   "outputs": [
    {
     "name": "stdout",
     "output_type": "stream",
     "text": [
      "['national', 'national']\n"
     ]
    }
   ],
   "source": [
    "string =\"national animal is tiger and national sport is hockey\"\n",
    "pattern =\"national\"\n",
    "result =re.findall(pattern,string)\n",
    "print(result)"
   ]
  },
  {
   "cell_type": "code",
   "execution_count": 16,
   "metadata": {},
   "outputs": [
    {
     "name": "stdout",
     "output_type": "stream",
     "text": [
      "['12-05-2007', '11-11-2011', '12-01-2009']\n"
     ]
    }
   ],
   "source": [
    "string =\"John 34-3456 12-05-2007,XYZ 56-4532 11-11-2011,ABC 67-8945 12-01-2009\"\n",
    "pattern =r'\\d{2}-\\d{2}-\\d{4}'\n",
    "result =re.findall(pattern,string)\n",
    "print(result)"
   ]
  },
  {
   "cell_type": "code",
   "execution_count": 20,
   "metadata": {},
   "outputs": [
    {
     "name": "stdout",
     "output_type": "stream",
     "text": [
      "['this', 'is', '', 'a', 'sample', 'text', 'string']\n"
     ]
    }
   ],
   "source": [
    "string = 'this is; a,sample,text,string'\n",
    "pattern =r'[;,\\s]'\n",
    "result= re.split(pattern,string)\n",
    "print(result)"
   ]
  },
  {
   "cell_type": "code",
   "execution_count": 21,
   "metadata": {},
   "outputs": [
    {
     "name": "stdout",
     "output_type": "stream",
     "text": [
      "cricket is a popular sport of the world\n"
     ]
    }
   ],
   "source": [
    "string =\"cricket is a popular sport of india\"\n",
    "pattern = \"india\"\n",
    "replacement= \"the world\"\n",
    "result = re.sub(pattern,replacement,string)\n",
    "print(result)\n"
   ]
  },
  {
   "cell_type": "code",
   "execution_count": 22,
   "metadata": {},
   "outputs": [
    {
     "name": "stdout",
     "output_type": "stream",
     "text": [
      "0\n",
      "29\n"
     ]
    }
   ],
   "source": [
    "# pattern gives the index number\n",
    "string =\"national animal is tiger and national sport is hockey\"\n",
    "pattern =\"national\"\n",
    "result =re.finditer(pattern,string)\n",
    "for i in result:\n",
    "    print(i.start())"
   ]
  },
  {
   "cell_type": "code",
   "execution_count": 26,
   "metadata": {},
   "outputs": [
    {
     "name": "stdout",
     "output_type": "stream",
     "text": [
      "John 34-3456 Monday,XYZ 56-4532 Monday,ABC 67-8945 Monday\n"
     ]
    }
   ],
   "source": [
    "string =\"John 34-3456 12-05-2007,XYZ 56-4532 11-11-2011,ABC 67-8945 12-01-2009\"\n",
    "pattern =r'\\d{2}-\\d{2}-\\d{4}'\n",
    "result = re.findall(pattern,string)\n",
    "# print(result)\n",
    "print(re.sub(pattern,\"Monday\",string))"
   ]
  },
  {
   "cell_type": "code",
   "execution_count": 45,
   "metadata": {},
   "outputs": [
    {
     "name": "stdout",
     "output_type": "stream",
     "text": [
      "<re.Match object; span=(14, 50), match='training_queries@analyticsvidhya.com'>\n"
     ]
    }
   ],
   "source": [
    "string =\"contact us on training_queries@analyticsvidhya.com\"\n",
    "pattern = '([\\w.-]+)@([\\w.-]+)'\n",
    "result = re.search(pattern,string)\n",
    "print(result)"
   ]
  }
 ],
 "metadata": {
  "kernelspec": {
   "display_name": "Python 3",
   "language": "python",
   "name": "python3"
  },
  "language_info": {
   "codemirror_mode": {
    "name": "ipython",
    "version": 3
   },
   "file_extension": ".py",
   "mimetype": "text/x-python",
   "name": "python",
   "nbconvert_exporter": "python",
   "pygments_lexer": "ipython3",
   "version": "3.7.4"
  }
 },
 "nbformat": 4,
 "nbformat_minor": 2
}
