{
 "cells": [
  {
   "cell_type": "markdown",
   "metadata": {
    "collapsed": true
   },
   "source": [
    "#### 1: List the causes of death and percentile in Ohio state in the year 2012"
   ]
  },
  {
   "cell_type": "code",
   "execution_count": 12,
   "metadata": {},
   "outputs": [],
   "source": [
    "#import required libraries\n",
    "import pandas as pd\n",
    "import matplotlib.pyplot as plt\n",
    "from matplotlib import style\n",
    "%matplotlib inline"
   ]
  },
  {
   "cell_type": "code",
   "execution_count": 13,
   "metadata": {},
   "outputs": [],
   "source": [
    "# View the plot \n",
    "# Ohio_state_data = pd.read_csv('Ohio_state_data.txt', sep='\\t',header = None)"
   ]
  },
  {
   "cell_type": "code",
   "execution_count": 14,
   "metadata": {},
   "outputs": [],
   "source": [
    "# Ohio_state_data"
   ]
  },
  {
   "cell_type": "code",
   "execution_count": 15,
   "metadata": {},
   "outputs": [],
   "source": [
    "#cause of deaths\n",
    "cause_of_death = 'Chronic Disease', 'Unintetional Injuries', 'Alzheimers', 'Infuenza and Pneumonia', 'Sepsis','Others'\n",
    "\n",
    "#percentile\n",
    "percentile = [62, 5, 4, 2, 1 , 26 ]"
   ]
  },
  {
   "cell_type": "markdown",
   "metadata": {},
   "source": [
    "#### 2: Draw a pie chart using the two data points"
   ]
  },
  {
   "cell_type": "code",
   "execution_count": 16,
   "metadata": {},
   "outputs": [],
   "source": [
    "#set the pie chart plot properties\n"
   ]
  },
  {
   "cell_type": "code",
   "execution_count": 17,
   "metadata": {
    "scrolled": false
   },
   "outputs": [
    {
     "data": {
      "text/plain": [
       "<Figure size 720x720 with 0 Axes>"
      ]
     },
     "execution_count": 17,
     "metadata": {},
     "output_type": "execute_result"
    },
    {
     "data": {
      "text/plain": [
       "<Figure size 720x720 with 0 Axes>"
      ]
     },
     "metadata": {},
     "output_type": "display_data"
    }
   ],
   "source": [
    "#set figure size\n",
    "plt.figure(figsize =(10,10))"
   ]
  },
  {
   "cell_type": "code",
   "execution_count": 18,
   "metadata": {},
   "outputs": [],
   "source": [
    "#explode the largest pie in the data set\n",
    "explode = [0.05,0,0,0,0,0]"
   ]
  },
  {
   "cell_type": "code",
   "execution_count": 25,
   "metadata": {},
   "outputs": [
    {
     "data": {
      "text/plain": [
       "([<matplotlib.patches.Wedge at 0x249a2b43948>,\n",
       "  <matplotlib.patches.Wedge at 0x249a2b4b588>,\n",
       "  <matplotlib.patches.Wedge at 0x249a2b4f408>,\n",
       "  <matplotlib.patches.Wedge at 0x249a2b562c8>,\n",
       "  <matplotlib.patches.Wedge at 0x249a2b5c508>,\n",
       "  <matplotlib.patches.Wedge at 0x249a2b62488>],\n",
       " [Text(-0.9794859652376301, -0.6025838065385664, 'Chronic Disease'),\n",
       "  Text(0.9730390893079407, -0.5130252729435204, 'Unintetional Injuries'),\n",
       "  Text(1.0775327816003042, -0.22118567895935573, 'Alzheimers'),\n",
       "  Text(1.0998927768344315, -0.015358367994139246, 'Infuenza and Pneumonia'),\n",
       "  Text(1.0964567640511194, 0.0882188447359645, 'Sepsis'),\n",
       "  Text(0.6589259629028229, 0.880804504650486, 'Others')],\n",
       " [Text(-0.5536225020908343, -0.34059084717397226, '62.0%'),\n",
       "  Text(0.5307485941679676, -0.279831967060102, '5.0%'),\n",
       "  Text(0.5877451536001659, -0.12064673397783038, '4.0%'),\n",
       "  Text(0.5999415146369627, -0.008377291633166861, '2.0%'),\n",
       "  Text(0.598067325846065, 0.04811936985598063, '1.0%'),\n",
       "  Text(0.35941416158335787, 0.4804388207184468, '26.0%')])"
      ]
     },
     "execution_count": 25,
     "metadata": {},
     "output_type": "execute_result"
    },
    {
     "data": {
      "image/png": "[encoded data removed]",
      "text/plain": [
       "<Figure size 432x288 with 1 Axes>"
      ]
     },
     "metadata": {},
     "output_type": "display_data"
    }
   ],
   "source": [
    "#set pie chart properties\n",
    "plt.pie(percentile,labels = cause_of_death,explode =explode,autopct ='%1.1f%%',startangle = 100)"
   ]
  },
  {
   "cell_type": "code",
   "execution_count": 26,
   "metadata": {},
   "outputs": [
    {
     "data": {
      "text/plain": [
       "(-0.05, 1.05, -0.05, 1.05)"
      ]
     },
     "execution_count": 26,
     "metadata": {},
     "output_type": "execute_result"
    },
    {
     "data": {
      "image/png": "[encoded data removed]",
      "text/plain": [
       "<Figure size 432x288 with 1 Axes>"
      ]
     },
     "metadata": {
      "needs_background": "light"
     },
     "output_type": "display_data"
    }
   ],
   "source": [
    "#set axis equal to draw pie as circle\n",
    "plt.axis('equal')"
   ]
  },
  {
   "cell_type": "code",
   "execution_count": 27,
   "metadata": {},
   "outputs": [
    {
     "data": {
      "text/plain": [
       "Text(0.5, 1.0, 'Ohio State-2012: leading causes of death')"
      ]
     },
     "execution_count": 27,
     "metadata": {},
     "output_type": "execute_result"
    },
    {
     "data": {
      "image/png": "[encoded data removed]",
      "text/plain": [
       "<Figure size 432x288 with 1 Axes>"
      ]
     },
     "metadata": {
      "needs_background": "light"
     },
     "output_type": "display_data"
    }
   ],
   "source": [
    "#set title of the pie chart\n",
    "plt.title('Ohio State-2012: leading causes of death')"
   ]
  },
  {
   "cell_type": "code",
   "execution_count": 22,
   "metadata": {},
   "outputs": [],
   "source": [
    "#show the plot (pie chart)\n",
    "plt.show()"
   ]
  },
  {
   "cell_type": "code",
   "execution_count": null,
   "metadata": {},
   "outputs": [],
   "source": []
  },
  {
   "cell_type": "code",
   "execution_count": null,
   "metadata": {},
   "outputs": [],
   "source": []
  }
 ],
 "metadata": {
  "kernelspec": {
   "display_name": "Python 3",
   "language": "python",
   "name": "python3"
  },
  "language_info": {
   "codemirror_mode": {
    "name": "ipython",
    "version": 3
   },
   "file_extension": ".py",
   "mimetype": "text/x-python",
   "name": "python",
   "nbconvert_exporter": "python",
   "pygments_lexer": "ipython3",
   "version": "3.7.4"
  }
 },
 "nbformat": 4,
 "nbformat_minor": 1
}
