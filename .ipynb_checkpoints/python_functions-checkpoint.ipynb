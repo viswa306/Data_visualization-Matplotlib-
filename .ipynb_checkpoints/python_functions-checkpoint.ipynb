{
 "cells": [
  {
   "cell_type": "code",
   "execution_count": 1,
   "metadata": {},
   "outputs": [],
   "source": [
    "#import  dependencies\n",
    "import pandas as pd"
   ]
  },
  {
   "cell_type": "code",
   "execution_count": 13,
   "metadata": {},
   "outputs": [],
   "source": [
    "# 1: Create a function that can accept two arguments name and age and print its value\n",
    "def accpt_arug(name,age):\n",
    "    \n",
    "    Name = \" viswajani\"\n",
    "    age =40\n",
    "    \n",
    "    return(name,age)"
   ]
  },
  {
   "cell_type": "code",
   "execution_count": 14,
   "metadata": {},
   "outputs": [
    {
     "data": {
      "text/plain": [
       "('sita', 40)"
      ]
     },
     "execution_count": 14,
     "metadata": {},
     "output_type": "execute_result"
    }
   ],
   "source": [
    "accpt_arug(\"sita\",41)"
   ]
  },
  {
   "cell_type": "code",
   "execution_count": 19,
   "metadata": {},
   "outputs": [],
   "source": [
    "#2: Write a function func1() such that it can accept a variable length of  argument and print all arguments value\n",
    "def var_len(arg1,arg2):\n",
    "    print(arg1,arg2)\n",
    "    for i in arg1,arg2:\n",
    "        print(i)\n",
    "    return(arg1,arg2)"
   ]
  },
  {
   "cell_type": "code",
   "execution_count": 20,
   "metadata": {},
   "outputs": [
    {
     "name": "stdout",
     "output_type": "stream",
     "text": [
      "20 30\n",
      "20\n",
      "30\n"
     ]
    },
    {
     "data": {
      "text/plain": [
       "(20, 30)"
      ]
     },
     "execution_count": 20,
     "metadata": {},
     "output_type": "execute_result"
    }
   ],
   "source": [
    "var_len(20,30)"
   ]
  },
  {
   "cell_type": "code",
   "execution_count": 36,
   "metadata": {},
   "outputs": [
    {
     "name": "stdout",
     "output_type": "stream",
     "text": [
      "20\n",
      "30\n",
      "60\n"
     ]
    }
   ],
   "source": [
    "def func1(*args):\n",
    "    for i in args:\n",
    "        print(i)\n",
    "    \n",
    "func1(20,30,60)\n"
   ]
  },
  {
   "cell_type": "code",
   "execution_count": 34,
   "metadata": {},
   "outputs": [
    {
     "name": "stdout",
     "output_type": "stream",
     "text": [
      "20\n",
      "40\n",
      "60\n",
      "80\n",
      "100\n"
     ]
    }
   ],
   "source": [
    "def func1(*args):\n",
    "    for i in args:\n",
    "        print(i)\n",
    "\n",
    "func1(20, 40, 60)\n",
    "func1(80, 100)"
   ]
  },
  {
   "cell_type": "code",
   "execution_count": 37,
   "metadata": {},
   "outputs": [
    {
     "name": "stdout",
     "output_type": "stream",
     "text": [
      "(70, -10)\n"
     ]
    }
   ],
   "source": [
    "# 3: Write a function calculation() such that it can accept two variables and calculate the addition and subtraction of it. And also it must return both addition and subtraction in a single return call\n",
    "\n",
    "\n",
    "def cal_fn(a,b):\n",
    "    return(a+b,a-b)\n",
    "result = cal_fn(30,40)\n",
    "print(result)\n",
    "    \n",
    "        "
   ]
  },
  {
   "cell_type": "code",
   "execution_count": 49,
   "metadata": {},
   "outputs": [
    {
     "name": "stdout",
     "output_type": "stream",
     "text": [
      "salary not greater thean 9000\n"
     ]
    }
   ],
   "source": [
    "#4: Create a function showEmployee() in such a way that it should accept employee name, and it’s salary and display both, and if the salary is missing in function call it should show it as 9000\n",
    "\n",
    "\n",
    "\n",
    "def showemp(ename,esal):\n",
    "    if (esal>9000):\n",
    "        print(\"name of emp \",ename,\"salary\",esal)\n",
    "    else:\n",
    "        print(\"salary not greater thean 9000\")\n",
    "    \n",
    "showemp(\"syam\",1000)\n",
    "\n",
    "        "
   ]
  },
  {
   "cell_type": "code",
   "execution_count": 50,
   "metadata": {},
   "outputs": [
    {
     "name": "stdout",
     "output_type": "stream",
     "text": [
      "Employee Ben salary is: 9000\n",
      "Employee Ben salary is: 9000\n"
     ]
    }
   ],
   "source": [
    "def showEmployee(name, salary=9000):\n",
    "    print(\"Employee\", name, \"salary is:\", salary)\n",
    "\n",
    "showEmployee(\"Ben\", 9000)\n",
    "showEmployee(\"Ben\")"
   ]
  },
  {
   "cell_type": "code",
   "execution_count": 51,
   "metadata": {},
   "outputs": [
    {
     "name": "stdout",
     "output_type": "stream",
     "text": [
      "20\n"
     ]
    }
   ],
   "source": [
    "#5: Create an inner function to calculate the addition in the following way\n",
    "def outerfn(a,b):\n",
    "    square = a**2\n",
    "    def innerfn(a,b):\n",
    "        return(a+b)\n",
    "    add= innerfn(a,b)\n",
    "    return(add+5)\n",
    "result = outerfn(5,10)\n",
    "print(result)\n"
   ]
  },
  {
   "cell_type": "code",
   "execution_count": 56,
   "metadata": {},
   "outputs": [
    {
     "name": "stdout",
     "output_type": "stream",
     "text": [
      "465\n"
     ]
    }
   ],
   "source": [
    "#6: Write a recursive function to calculate the sum of numbers from 0 to 10\n",
    "def calsum(num):\n",
    "    if num:\n",
    "        return num+ calsum(num-1)\n",
    "    else:\n",
    "        return 0\n",
    "res =calsum(30)\n",
    "print(res)\n",
    "    \n",
    "        "
   ]
  },
  {
   "cell_type": "code",
   "execution_count": 58,
   "metadata": {},
   "outputs": [
    {
     "name": "stdout",
     "output_type": "stream",
     "text": [
      "Emma 26\n",
      "syam 36\n"
     ]
    }
   ],
   "source": [
    "# 7: Assign a different name to function and call it through the new name\n",
    "def displaystudent(name,age):\n",
    "    print(name,age)\n",
    "    \n",
    "displaystudent(\"Emma\",26)\n",
    "\n",
    "showstudent = displaystudent\n",
    "showstudent(\"syam\",36)"
   ]
  },
  {
   "cell_type": "code",
   "execution_count": 62,
   "metadata": {},
   "outputs": [],
   "source": [
    "#8: Generate a Python list of all the even numbers between 4 to 30\n",
    "def listfn(num):\n",
    "    if (num%2 == 0):\n",
    "        print (\"num is even number\",num)\n",
    "    else:\n",
    "        print (\" Number is odd\")\n",
    "       \n",
    "        "
   ]
  },
  {
   "cell_type": "code",
   "execution_count": 63,
   "metadata": {},
   "outputs": [
    {
     "name": "stdout",
     "output_type": "stream",
     "text": [
      "num is even number 50\n"
     ]
    }
   ],
   "source": [
    "listfn(50)"
   ]
  },
  {
   "cell_type": "code",
   "execution_count": 65,
   "metadata": {},
   "outputs": [
    {
     "name": "stdout",
     "output_type": "stream",
     "text": [
      "[4, 6, 8, 10, 12, 14, 16, 18, 20, 22, 24, 26, 28]\n"
     ]
    }
   ],
   "source": [
    "print(list(range(4,30,2)))"
   ]
  },
  {
   "cell_type": "code",
   "execution_count": 70,
   "metadata": {},
   "outputs": [
    {
     "name": "stdout",
     "output_type": "stream",
     "text": [
      "78\n"
     ]
    }
   ],
   "source": [
    "# 9: Return the largest item from the given list\n",
    "alist =[4,6,78,56,45,33]\n",
    "print(max(alist))"
   ]
  }
 ],
 "metadata": {
  "kernelspec": {
   "display_name": "Python 3",
   "language": "python",
   "name": "python3"
  },
  "language_info": {
   "codemirror_mode": {
    "name": "ipython",
    "version": 3
   },
   "file_extension": ".py",
   "mimetype": "text/x-python",
   "name": "python",
   "nbconvert_exporter": "python",
   "pygments_lexer": "ipython3",
   "version": "3.7.4"
  }
 },
 "nbformat": 4,
 "nbformat_minor": 2
}
