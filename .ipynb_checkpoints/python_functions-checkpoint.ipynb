{
 "cells": [
  {
   "cell_type": "code",
   "execution_count": null,
   "metadata": {},
   "outputs": [],
   "source": [
    "#import  dependencies\n",
    "import pandas as pd"
   ]
  },
  {
   "cell_type": "code",
   "execution_count": null,
   "metadata": {},
   "outputs": [],
   "source": [
    "# 1: Create a function that can accept two arguments name and age and print its value\n",
    "def accpt_arug(name,age):\n",
    "    \n",
    "    Name = \" viswajani\"\n",
    "    age =40\n",
    "    \n",
    "    return(name,age)"
   ]
  },
  {
   "cell_type": "code",
   "execution_count": null,
   "metadata": {},
   "outputs": [],
   "source": [
    "accpt_arug(\"sita\",41)"
   ]
  },
  {
   "cell_type": "code",
   "execution_count": null,
   "metadata": {},
   "outputs": [],
   "source": [
    "#2: Write a function func1() such that it can accept a variable length of  argument and print all arguments value\n",
    "def var_len(arg1,arg2):\n",
    "    print(arg1,arg2)\n",
    "    for i in arg1,arg2:\n",
    "        print(i)\n",
    "    return(arg1,arg2)"
   ]
  },
  {
   "cell_type": "code",
   "execution_count": null,
   "metadata": {},
   "outputs": [],
   "source": [
    "var_len(20,30)"
   ]
  },
  {
   "cell_type": "code",
   "execution_count": null,
   "metadata": {},
   "outputs": [],
   "source": [
    "def func1(*args):\n",
    "    for i in args:\n",
    "        print(i)\n",
    "    \n",
    "func1(20,30,60)\n"
   ]
  },
  {
   "cell_type": "code",
   "execution_count": null,
   "metadata": {},
   "outputs": [],
   "source": [
    "def func1(*args):\n",
    "    for i in args:\n",
    "        print(i)\n",
    "\n",
    "func1(20, 40, 60)\n",
    "func1(80, 100)"
   ]
  },
  {
   "cell_type": "code",
   "execution_count": null,
   "metadata": {},
   "outputs": [],
   "source": [
    "# 3: Write a function calculation() such that it can accept two variables and calculate the addition and subtraction of it. And also it must return both addition and subtraction in a single return call\n",
    "\n",
    "\n",
    "def cal_fn(a,b):\n",
    "    return(a+b,a-b)\n",
    "result = cal_fn(30,40)\n",
    "print(result)\n",
    "    \n",
    "        "
   ]
  },
  {
   "cell_type": "code",
   "execution_count": null,
   "metadata": {},
   "outputs": [],
   "source": [
    "#4: Create a function showEmployee() in such a way that it should accept employee name, and it’s salary and display both, and if the salary is missing in function call it should show it as 9000\n",
    "\n",
    "\n",
    "\n",
    "def showemp(ename,esal):\n",
    "    if (esal>9000):\n",
    "        print(\"name of emp \",ename,\"salary\",esal)\n",
    "    else:\n",
    "        print(\"salary not greater thean 9000\")\n",
    "    \n",
    "showemp(\"syam\",1000)\n",
    "\n",
    "        "
   ]
  },
  {
   "cell_type": "code",
   "execution_count": null,
   "metadata": {},
   "outputs": [],
   "source": [
    "def showEmployee(name, salary=9000):\n",
    "    print(\"Employee\", name, \"salary is:\", salary)\n",
    "\n",
    "showEmployee(\"Ben\", 9000)\n",
    "showEmployee(\"Ben\")"
   ]
  },
  {
   "cell_type": "code",
   "execution_count": null,
   "metadata": {},
   "outputs": [],
   "source": [
    "#5: Create an inner function to calculate the addition in the following way\n",
    "def outerfn(a,b):\n",
    "    square = a**2\n",
    "    def innerfn(a,b):\n",
    "        return(a+b)\n",
    "    add= innerfn(a,b)\n",
    "    return(add+5)\n",
    "result = outerfn(5,10)\n",
    "print(result)\n"
   ]
  },
  {
   "cell_type": "code",
   "execution_count": null,
   "metadata": {},
   "outputs": [],
   "source": [
    "#6: Write a recursive function to calculate the sum of numbers from 0 to 10\n",
    "def calsum(num):\n",
    "    if num:\n",
    "        return num+ calsum(num-1)\n",
    "    else:\n",
    "        return 0\n",
    "res =calsum(30)\n",
    "print(res)\n",
    "    \n",
    "        "
   ]
  },
  {
   "cell_type": "code",
   "execution_count": null,
   "metadata": {},
   "outputs": [],
   "source": [
    "# 7: Assign a different name to function and call it through the new name\n",
    "def displaystudent(name,age):\n",
    "    print(name,age)\n",
    "    \n",
    "displaystudent(\"Emma\",26)\n",
    "\n",
    "showstudent = displaystudent\n",
    "showstudent(\"syam\",36)"
   ]
  },
  {
   "cell_type": "code",
   "execution_count": null,
   "metadata": {},
   "outputs": [],
   "source": [
    "#8: Generate a Python list of all the even numbers between 4 to 30\n",
    "def listfn(num):\n",
    "    if (num%2 == 0):\n",
    "        print (\"num is even number\",num)\n",
    "    else:\n",
    "        print (\" Number is odd\")\n",
    "       \n",
    "        "
   ]
  },
  {
   "cell_type": "code",
   "execution_count": null,
   "metadata": {},
   "outputs": [],
   "source": [
    "listfn(50)"
   ]
  },
  {
   "cell_type": "code",
   "execution_count": null,
   "metadata": {},
   "outputs": [],
   "source": [
    "print(list(range(4,30,2)))"
   ]
  },
  {
   "cell_type": "code",
   "execution_count": null,
   "metadata": {},
   "outputs": [],
   "source": [
    "# 9: Return the largest item from the given list\n",
    "alist =[4,6,78,56,45,33]\n",
    "print(max(alist))"
   ]
  },
  {
   "cell_type": "code",
   "execution_count": null,
   "metadata": {},
   "outputs": [],
   "source": [
    "for i in range(4,31):\n",
    "    if i%2 == 0:\n",
    "        print(i, end=' ')"
   ]
  },
  {
   "cell_type": "code",
   "execution_count": null,
   "metadata": {},
   "outputs": [],
   "source": [
    "for i in range(4,31):\n",
    "    if i%2 == 0:\n",
    "        print(i)"
   ]
  },
  {
   "cell_type": "code",
   "execution_count": null,
   "metadata": {},
   "outputs": [],
   "source": [
    "# class and objects\n",
    "# We have a class defined for vehicles. Create two new vehicles called car1 and car2. Set car1 to be a red convertible worth $60,000.00 with a name of Fer, and car2 to be a blue van named Jump worth $10,000.00.\n",
    "\n",
    "# define the vehicle class\n",
    "class vehicle:\n",
    "    name =\"\"\n",
    "    kind = \"car\"\n",
    "    value = 100.00\n",
    "    color =\"\"\n",
    "    def description(self):\n",
    "        desc_st =(\"Test descripotion\",self.name,self.color,self.kind,self.value)\n",
    "        return desc_st\n",
    "#your code goes here\n",
    "car1 = vehicle()\n",
    "car1.name =\"Fer\"\n",
    "car1.color =\"red\"\n",
    "car1.kind =\"convertible\"\n",
    "car1.value=600000.00\n",
    "\n",
    "car2 = vehicle()\n",
    "car2.name= \"jump\"\n",
    "car2.color =\"blue\"\n",
    "car2.kind=\"van\"\n",
    "car2.value=100000.00\n",
    "\n",
    "#test code\n",
    "print(car1.description())\n",
    "print(car2.description())"
   ]
  },
  {
   "cell_type": "code",
   "execution_count": null,
   "metadata": {},
   "outputs": [],
   "source": [
    "# dictionaries:\n",
    "phbook={}\n",
    "phbook[\"john\"] =983477556\n",
    "phbook[\"jack\"]= 982345677\n",
    "phbook[\"jill\"]=9856788890\n",
    "print(phbook)"
   ]
  },
  {
   "cell_type": "code",
   "execution_count": null,
   "metadata": {},
   "outputs": [],
   "source": [
    "phonebook = {\"John\" : 938477566,\"Jack\" : 938377264,\"Jill\" : 947662781}\n",
    "for name,number in phonebook.items():\n",
    "    print(\"phone number of :\",name,number)"
   ]
  },
  {
   "cell_type": "code",
   "execution_count": null,
   "metadata": {},
   "outputs": [],
   "source": [
    "phonebook = {\n",
    "   \"John\" : 938477566,\n",
    "   \"Jack\" : 938377264,\n",
    "   \"Jill\" : 947662781\n",
    "}\n",
    "del phonebook[\"John\"]\n",
    "print(phonebook)\n"
   ]
  },
  {
   "cell_type": "code",
   "execution_count": null,
   "metadata": {},
   "outputs": [],
   "source": [
    "phonebook = {\n",
    "   \"John\" : 938477566,\n",
    "   \"Jack\" : 938377264,\n",
    "   \"Jill\" : 947662781\n",
    "}\n",
    "phonebook.pop(\"John\")\n",
    "print(phonebook)"
   ]
  },
  {
   "cell_type": "code",
   "execution_count": null,
   "metadata": {},
   "outputs": [],
   "source": [
    "#Add \"Jake\" to the phonebook with the phone number 938273443, and remove Jill from the phonebook.\n",
    "phonebook = {  \n",
    "    \"John\" : 938477566,\n",
    "    \"Jack\" : 938377264,\n",
    "    \"Jill\" : 947662781\n",
    "}  \n",
    "\n",
    "phonebook[\"Jake\"]=985677458\n",
    "del phonebook[\"Jill\"]\n",
    "# testing code\n",
    "if \"Jake\" in phonebook:\n",
    "    print(\"Jake is listed in the phonebook\")\n",
    "if  \"Jill\" not in phonebook:\n",
    "    print(\"jill is not listed in the phonebook.\")"
   ]
  },
  {
   "cell_type": "code",
   "execution_count": null,
   "metadata": {},
   "outputs": [],
   "source": [
    "# Numpy Arrays:\n",
    "# Create 2 new lists height and weight\n",
    "height = [1.87,  1.87, 1.82, 1.91, 1.90, 1.85]\n",
    "weight = [81.65, 97.52, 95.25, 92.98, 86.18, 88.45]\n",
    "\n",
    "# import the numpy pacakage as np\n",
    "import numpy as np\n",
    "\n",
    "# Creatae 2 numpy arrays from height and weight\n",
    "np_height = np.array(height)\n",
    "print(np_height)\n",
    "np_weight = np.array(weight)\n",
    "print(np_weight)\n",
    "print(type(np_height))\n"
   ]
  },
  {
   "cell_type": "code",
   "execution_count": null,
   "metadata": {},
   "outputs": [],
   "source": [
    "#calculate BMI\n",
    "bmi = np_weight/np_height**2\n",
    "print(bmi)"
   ]
  },
  {
   "cell_type": "code",
   "execution_count": null,
   "metadata": {},
   "outputs": [],
   "source": [
    "# for a boolean response\n",
    "bmi>23\n",
    "# print only those observations above 23\n",
    "bmi[bmi>23]"
   ]
  },
  {
   "cell_type": "code",
   "execution_count": null,
   "metadata": {},
   "outputs": [],
   "source": [
    "#First, convert the list of weights from a list to a Numpy array. Then, convert all of the weights from kilograms to pounds. Use the scalar conversion of 2.2 lbs per kilogram to make your conversion. Lastly, print the resulting array of weights in pounds.\n",
    "\n",
    "weight_kg = [81.65, 97.52, 95.25, 92.98, 86.18, 88.45]\n",
    "\n",
    "import numpy as np\n",
    "\n",
    "# Create a numpy array np_weight_kg from weight_kg\n",
    "np_weight_kg = np.array(weight_kg)\n",
    "print(np_weight_kg)\n",
    "# Create np_weight_lbs from np_weight_kg\n",
    "np_weight_lbs= np_weight_kg*2.2\n",
    "print(np_weight_lbs)"
   ]
  },
  {
   "cell_type": "code",
   "execution_count": null,
   "metadata": {},
   "outputs": [],
   "source": [
    "dict = {\"country\": [\"Brazil\", \"Russia\", \"India\", \"China\", \"South Africa\"],\n",
    "       \"capital\": [\"Brasilia\", \"Moscow\", \"New Dehli\", \"Beijing\", \"Pretoria\"],\n",
    "       \"area\": [8.516, 17.10, 3.286, 9.597, 1.221],\n",
    "       \"population\": [200.4, 143.5, 1252, 1357, 52.98] }\n",
    "\n",
    "import pandas as pd\n",
    "brics = pd.DataFrame(dict)\n",
    "print(brics)\n",
    "# Set the index for brics\n",
    "brics.index = [\"BR\", \"RU\", \"IN\", \"CH\", \"SA\"]\n",
    "# Print out brics with new index values\n",
    "print(brics)\n"
   ]
  },
  {
   "cell_type": "code",
   "execution_count": null,
   "metadata": {},
   "outputs": [],
   "source": [
    "#piling up\n",
    "for t in range(int(input())):\n",
    "    input()\n",
    "    lst =[int(i) for i in input().split()]\n",
    "    min_list =lst.indx(min(lst))\n",
    "    left =lst[:min_list]\n",
    "    right =lst[min_list+1:]\n",
    "    if left == sorted(left,reverse=True) and right == sorted(right):\n",
    "        print(\"yes\")\n",
    "    else:\n",
    "        print(\"no\")\n",
    "            "
   ]
  },
  {
   "cell_type": "code",
   "execution_count": 11,
   "metadata": {},
   "outputs": [
    {
     "name": "stdout",
     "output_type": "stream",
     "text": [
      "1234544\n",
      "1\n",
      "2\n",
      "3\n",
      "4\n",
      "5\n",
      "4\n"
     ]
    },
    {
     "ename": "NameError",
     "evalue": "name 'cnt' is not defined",
     "output_type": "error",
     "traceback": [
      "\u001b[1;31m---------------------------------------------------------------------------\u001b[0m",
      "\u001b[1;31mNameError\u001b[0m                                 Traceback (most recent call last)",
      "\u001b[1;32m<ipython-input-11-b92267ae3027>\u001b[0m in \u001b[0;36m<module>\u001b[1;34m\u001b[0m\n\u001b[0;32m     15\u001b[0m     \u001b[0mprint\u001b[0m\u001b[1;33m(\u001b[0m\u001b[0mchar\u001b[0m\u001b[1;33m)\u001b[0m\u001b[1;33m\u001b[0m\u001b[1;33m\u001b[0m\u001b[0m\n\u001b[0;32m     16\u001b[0m     \u001b[1;32mif\u001b[0m \u001b[0mchar\u001b[0m \u001b[1;32min\u001b[0m \u001b[0mtemp\u001b[0m\u001b[1;33m:\u001b[0m\u001b[1;33m\u001b[0m\u001b[1;33m\u001b[0m\u001b[0m\n\u001b[1;32m---> 17\u001b[1;33m         \u001b[0mchar\u001b[0m\u001b[1;33m==\u001b[0m\u001b[0mcnt\u001b[0m\u001b[1;33m(\u001b[0m\u001b[0mchar\u001b[0m\u001b[1;33m)\u001b[0m\u001b[1;33m\u001b[0m\u001b[1;33m\u001b[0m\u001b[0m\n\u001b[0m\u001b[0;32m     18\u001b[0m \u001b[1;33m\u001b[0m\u001b[0m\n\u001b[0;32m     19\u001b[0m \u001b[1;33m\u001b[0m\u001b[0m\n",
      "\u001b[1;31mNameError\u001b[0m: name 'cnt' is not defined"
     ]
    }
   ],
   "source": [
    "# Print the three most common characters along with their occurrence count each on a separate line.\n",
    "# Sort output in descending order of occurrence count.\n",
    "# If the occurrence count is the same, sort the characters in alphabetical order.\n",
    "\n",
    "import math\n",
    "import os\n",
    "import random\n",
    "import re\n",
    "import sys\n",
    "\n",
    "if __name__==\"__main__\":\n",
    "    s= input()\n",
    "temp =[]\n",
    "for char in s:\n",
    "    print(char)\n",
    "    if char in temp:\n",
    "        char==cnt(char)\n",
    "        \n",
    "        \n",
    "    else:\n",
    "        temp.append(char)\n",
    "          \n",
    "print(temp)\n",
    "        \n",
    "        \n",
    "    "
   ]
  },
  {
   "cell_type": "code",
   "execution_count": null,
   "metadata": {},
   "outputs": [],
   "source": [
    "    s = input()\n",
    "    count = dict()\n",
    "    for i in range(len(s)):\n",
    "        if s[i] not in count:\n",
    "            count[s[i]]=1\n",
    "        else:\n",
    "            count[s[i]]+=1\n",
    "    s2 = sorted(sorted(count), key = count.get,reverse = True)\n",
    "    top_3 =s2[:3]\n",
    "    for j in top_3:\n",
    "        print(j, count[j])"
   ]
  },
  {
   "cell_type": "code",
   "execution_count": null,
   "metadata": {},
   "outputs": [],
   "source": [
    "if __name__ == '__main__':\n",
    "    N = int(input())\n",
    "    list(list=[])\n",
    "lit.append[1]           "
   ]
  },
  {
   "cell_type": "code",
   "execution_count": null,
   "metadata": {},
   "outputs": [],
   "source": [
    "#Write a map function that adds plus 5 to each item in the list.\n",
    "lst1=[10, 20, 30, 40, 50, 60]\n",
    "\n",
    "\n",
    "lst2 = list(map(lambda x:x+5 ,lst1))\n",
    "\n",
    "print(lst2)"
   ]
  },
  {
   "cell_type": "code",
   "execution_count": null,
   "metadata": {},
   "outputs": [],
   "source": [
    "#Write a map function that returns the squares of the items in the list.\n",
    "lst1=[10, 20, 30, 40, 50, 60]\n",
    "lst2= list(map(lambda x:x*x,lst1))\n",
    "\n",
    "print(lst2)"
   ]
  },
  {
   "cell_type": "code",
   "execution_count": null,
   "metadata": {},
   "outputs": [],
   "source": [
    "#Write a map function that adds \"Hello, \" in front of each item in the list.\n",
    "lst1=[\"Jane\", \"Lee\", \"Will\", \"Brie\"]\n",
    "\n",
    "lst2= list(map(lambda x:\"Hello,\"+x,lst1))\n",
    "\n",
    "print(lst2)"
   ]
  },
  {
   "cell_type": "code",
   "execution_count": null,
   "metadata": {},
   "outputs": [],
   "source": [
    "#Using map() function and len() function create a list that's consisted of lengths of each element in the first list.\n",
    "\n",
    "lst1=[\"Alpine\", \"Avalanche\", \"Powder\", \"Snowflake\", \"Summit\"]\n",
    "\n",
    "lst2=list(map(lambda x:len(x),lst1))\n",
    "\n",
    "print(lst2)\n"
   ]
  },
  {
   "cell_type": "code",
   "execution_count": null,
   "metadata": {},
   "outputs": [],
   "source": [
    "#Using map() function and lambda add each elements of two lists together. Use a lambda with two arguments.\n",
    "lst1=[100, 200, 300, 400, 500]\n",
    "lst2=[1,10,100,1000,10000]\n",
    "\n",
    "\n",
    "lst3=list(map(lambda x,y:x+y,lst1,lst2))\n",
    "\n",
    "\n",
    "print(lst3)\n"
   ]
  },
  {
   "cell_type": "code",
   "execution_count": null,
   "metadata": {},
   "outputs": [],
   "source": [
    "#Using map() function and lambda and count() function create a list which consists of the number of occurence of letter: a.\n",
    "lst1=[\"Alaska\", \"Alabama\", \"Arizona\", \"Arkansas\", \"Colorado\", \"Montana\", \"Nevada\"]\n",
    "\n",
    "\n",
    "lst2=list(map(lambda x:x.count('a'),lst1))\n",
    "\n",
    "\n",
    "print(lst2)"
   ]
  },
  {
   "cell_type": "code",
   "execution_count": null,
   "metadata": {},
   "outputs": [],
   "source": [
    "#Using map() function and lambda and count() function create a list consisted of the number of occurence of both letters: A and a.\n",
    "lst1=[\"Alaska\", \"Alabama\", \"Arizona\", \"Arkansas\", \"Colorado\", \"Montana\", \"Nevada\"]\n",
    "\n",
    "\n",
    "lst2= list(map(lambda x:x.lower().count(\"a\"),lst1))\n",
    "\n",
    "\n",
    "print(lst2)"
   ]
  },
  {
   "cell_type": "code",
   "execution_count": null,
   "metadata": {},
   "outputs": [],
   "source": [
    "#Using map() function, first return a new list with absolute values of existing list. Then for ans_1, find the total sum of the new list's elements.\n",
    "\n",
    "lst=[99.3890,-3.5, 5, -0.7123, -9, -0.003]\n",
    "\n",
    "new_lst=list(map(lambda x:abs(x),lst))\n",
    "print(new_lst)\n",
    "\n",
    "ans_1= list(map(lambda x: sum(new_lst),new_lst))\n",
    "\n",
    "print(ans_1)\n"
   ]
  },
  {
   "cell_type": "code",
   "execution_count": null,
   "metadata": {},
   "outputs": [],
   "source": [
    "lst=[99.3890,-3.5, 5, -0.7123, -9, -0.003]\n",
    "\n",
    "new_lst=list(map(abs,lst))\n",
    "print(new_lst)\n",
    "\n",
    "ans_1= sum(new_lst)\n",
    "\n",
    "print(ans_1)"
   ]
  },
  {
   "cell_type": "code",
   "execution_count": null,
   "metadata": {},
   "outputs": [],
   "source": [
    "my_strings = ['a', 'b', 'c', 'd', 'e']\n",
    "my_numbers = [1,2,3,4,5]\n",
    "\n",
    "results = list(zip(my_strings, my_numbers))\n",
    "\n",
    "print(results)"
   ]
  },
  {
   "cell_type": "code",
   "execution_count": null,
   "metadata": {},
   "outputs": [],
   "source": [
    "my_strings = ['a', 'b', 'c', 'd', 'e']\n",
    "my_numbers = [1,2,3,4,5]\n",
    "\n",
    "results = list(map(lambda x,y:(x,y),my_strings,my_numbers))\n",
    "print(results)"
   ]
  },
  {
   "cell_type": "code",
   "execution_count": null,
   "metadata": {},
   "outputs": [],
   "source": [
    "dromes = (\"demigod\", \"rewire\", \"madam\", \"freer\", \"anutforajaroftuna\", \"kiosk\")\n",
    "\n",
    "palindromes = list(filter(lambda word: word == word[::-1], dromes))\n",
    "\n",
    "print(palindromes)"
   ]
  },
  {
   "cell_type": "code",
   "execution_count": null,
   "metadata": {},
   "outputs": [],
   "source": [
    "#filter\n",
    "scores = [66, 90, 68, 59, 76, 60, 88, 74, 81, 65]\n",
    "def is_a_student(score):\n",
    "    return score>75\n",
    "over_75 = list(filter(is_a_student,scores))\n",
    "print(over_75)"
   ]
  },
  {
   "cell_type": "code",
   "execution_count": null,
   "metadata": {},
   "outputs": [],
   "source": [
    "#Using filter() function filter the list so that only negative numbers are left.\n",
    "lst1=[12, -1, 9, 8, -0.5, -0.2, -100]\n",
    "\n",
    "def neg_num(num):\n",
    "    return num < 0\n",
    "\n",
    "\n",
    "lst2=list(filter(neg_num,lst1))\n",
    "\n",
    "\n",
    "print(lst2)\n"
   ]
  },
  {
   "cell_type": "code",
   "execution_count": null,
   "metadata": {},
   "outputs": [],
   "source": [
    "#Using filter function, filter the even numbers so that only odd numbers are passed to the new list.\n",
    "\n",
    "lst1=[22, 100, 19, 13, 11, 1, 4, 66]\n",
    "\n",
    "\n",
    "lst2=list(filter(lambda x:x%2==1,lst1))\n",
    "\n",
    "print(lst2)\n"
   ]
  },
  {
   "cell_type": "code",
   "execution_count": null,
   "metadata": {},
   "outputs": [],
   "source": [
    "#Using filter() and list() functions and .lower() method filter all the vowels in a given string.\n",
    "str1=\"Winter Olympics in 2022 will take place in Beijing China\"\n",
    "\n",
    "\n",
    "lst=list(filter(lambda x:True if x.lower() in \"aeiou\" else False,str1))\n",
    "\n",
    "print(lst)\n"
   ]
  },
  {
   "cell_type": "code",
   "execution_count": null,
   "metadata": {},
   "outputs": [],
   "source": [
    "#This time using filter() and list() functions filter all the positive integers in the string.\n",
    "str1=\"Winter Olympics in 2022 will take place in Beijing China\"\n",
    "\n",
    "\n",
    "lst=list(filter(lambda x: True if x in \"0123456789\" else False,str1))\n",
    "\n",
    "print(lst)"
   ]
  },
  {
   "cell_type": "code",
   "execution_count": null,
   "metadata": {},
   "outputs": [],
   "source": [
    "#Using map() and filter() functions add 2000 to the values below 8000.\n",
    "\n",
    "lst1=[1000, 500, 600, 700, 5000, 90000, 17500]\n",
    "\n",
    "less_8000 =list(filter(lambda x:x<8000 ,lst1))\n",
    "print(less_8000)\n",
    "lst2=list(map(lambda x:x+2000,less_8000))\n",
    "\n",
    "print(lst2)"
   ]
  },
  {
   "cell_type": "code",
   "execution_count": null,
   "metadata": {},
   "outputs": [],
   "source": [
    "#This time swap the map() and filter() functions so that map() function is inside filter() function. Convert a number to positive if it's negative in the list. Only pass those that are converted from negative to positive to the new list.\n",
    "lst1=[-1000, 500, -600, 700, 5000, -90000, -17500]\n",
    "\n",
    "\n",
    "lst2=list(filter(lambda x: True if x>0 else False,map(lambda x: x*-1,lst1)))\n",
    "\n",
    "print(lst2)\n"
   ]
  },
  {
   "cell_type": "code",
   "execution_count": null,
   "metadata": {},
   "outputs": [],
   "source": [
    "# .format()\n",
    "name=input(\"Please enter your name.\")\n",
    "\n",
    "str=\"Hello!,{} \".format(name)\n",
    "\n",
    "\n",
    " \n",
    "print(str)"
   ]
  },
  {
   "cell_type": "code",
   "execution_count": null,
   "metadata": {},
   "outputs": [],
   "source": [
    "#Using a string and .format() method print the number: 1 only.\n",
    "num = int(input())\n",
    "print(\"numbers {}\".format(1))"
   ]
  },
  {
   "cell_type": "code",
   "execution_count": null,
   "metadata": {},
   "outputs": [],
   "source": [
    "str=\"One year has {2} months, {0} weeks and {1} days.\".format(52, 365, 12)\n",
    "\n",
    "\n",
    "print(str)"
   ]
  },
  {
   "cell_type": "code",
   "execution_count": null,
   "metadata": {},
   "outputs": [],
   "source": [
    "#Fill inside .format()'s parenthesis so that it matches the correct values.\n",
    "John=75\n",
    "Ann=80\n",
    "Ally=60\n",
    "\n",
    "str=\"Scores were as following: John:{}, Ann:{}, Ally:{}\"\n",
    "\n",
    "\n",
    "#Type your code here.\n",
    "\n",
    "# str=\"Scores were as following: John:{}, Ann:{}, Ally:{}\".format(75,80,60)\n",
    "\n",
    "str = str.format(John,Ann,Ally)\n",
    "\n",
    "print(str)\n"
   ]
  },
  {
   "cell_type": "code",
   "execution_count": null,
   "metadata": {},
   "outputs": [],
   "source": [
    "#Join the list's elements with: \"+++\".\n",
    "lst=[\"Hawaii\", \"Phuket\", \"Aruba\", \"Keys\"]\n",
    "\n",
    "#Type your answer here.\n",
    "\n",
    "joined= \"+++\".join(lst)\n",
    "\n",
    "\n",
    "print(joined)\n"
   ]
  },
  {
   "cell_type": "code",
   "execution_count": null,
   "metadata": {},
   "outputs": [],
   "source": [
    "#Join the tuple's elements so that you get a proper email address.\n",
    "\n",
    "addresses=(\"Mr.Hathaway\", \"amymail.com\")\n",
    "#Type your code here.\n",
    "email=\"@\".join(addresses)\n",
    "\n",
    "\n",
    "\n",
    "print(email)"
   ]
  },
  {
   "cell_type": "code",
   "execution_count": null,
   "metadata": {},
   "outputs": [],
   "source": [
    "#Using the split method, split the string with semi colon (;) first. Then, print only the last element.\n",
    "\n",
    "\n",
    "str=\"Arsenal:0-Chelsea:1;Barcelona:2-Bayern Munich:2\"\n",
    "#Type your code here.\n",
    "\n",
    "lst=str.split(\";\")\n",
    "print(lst)\n",
    "ans_1=lst[-1]\n",
    "\n",
    "print(ans_1)\n"
   ]
  },
  {
   "cell_type": "code",
   "execution_count": null,
   "metadata": {},
   "outputs": [],
   "source": [
    "str=\"     Hello World!   \"\n",
    "#Type your answer here.\n",
    "str=str.strip(\" \")\n",
    "\n",
    "print(str)\n",
    "\n",
    "\n",
    "\n",
    "from unittest.gui import TestCaseGui\n",
    "\n",
    "class myTests(TestCaseGui):\n",
    "    def testOne(self):\n",
    "        self.assertEqual(str,str.strip(\" \"),\"str checks\")\n",
    "\n",
    "myTests().main()\n",
    "\n"
   ]
  },
  {
   "cell_type": "code",
   "execution_count": null,
   "metadata": {},
   "outputs": [],
   "source": [
    "treepersqkm = {\"Finland\": 90652, \"Taiwan\": 69593, \"Japan\": 49894, \"Russia\": 41396, \"Brazil\": 39542, \"Canada\": 36388, \"Bulgaria\": 24987, \"France\": 24436, \"Greece\": 24323, \"United States\": 23513, \"Turkey\": 11126, \"India\": 11109, \"Denmark\": 6129, \"Syria\": 534, \"Saudi Arabia\": 1}\n",
    "def moretrees(dict):\n",
    "    lst = []\n",
    "    for i in dict:\n",
    "        if dict[i]>20000:\n",
    "            lst.append(i)\n",
    "        else:\n",
    "            pass\n",
    "    return lst\n",
    "print(moretrees(treepersqkm))"
   ]
  },
  {
   "cell_type": "code",
   "execution_count": null,
   "metadata": {},
   "outputs": [],
   "source": [
    "#Write a function named \"count_l\" that counts the number of words that contain the letter: \"l\" in a given string.\n",
    "str = \"Oranges and lemons, Say the bells of St. Clement's. You owe me three farthings, Say the bells of St. Martin's\"\n",
    "\n",
    "\n",
    "def count_l(a):\n",
    "    c=0\n",
    "    for i in a.split():\n",
    "        if \"l\" in i:\n",
    "            c= c+1\n",
    "        else:\n",
    "            pass\n",
    "    return c\n",
    "print(count_l(str))\n",
    "\n",
    "    \n",
    "    \n",
    "    \n",
    "    \n",
    "\n",
    "\n"
   ]
  },
  {
   "cell_type": "code",
   "execution_count": null,
   "metadata": {},
   "outputs": [],
   "source": [
    "#Write a for loop that iterates through a string and prints every letter.\n",
    "str=\"Antarctica\"\n",
    "#Type your code here.\n",
    "for i in str:\n",
    "    print(i)\n",
    "        \n",
    "     "
   ]
  },
  {
   "cell_type": "code",
   "execution_count": null,
   "metadata": {},
   "outputs": [],
   "source": [
    "#Using a for loop and .append() method append each item with a Dr. prefix to the lst.\n",
    "lst1=[\"Phil\", \"Oz\", \"Seuss\", \"Dre\"]\n",
    "lst2=[]\n",
    "for i in lst1:\n",
    "    lst2.append(\"Dr.\"+i)\n",
    "\n",
    "\n",
    "\n",
    "\n",
    "print(lst2)"
   ]
  },
  {
   "cell_type": "code",
   "execution_count": null,
   "metadata": {},
   "outputs": [],
   "source": [
    "#Using while loop, if statement and str() function; iterate through the list and if there is a 100, print it with its index number. i.e.: \"There is a 100 at index no: 5\"\n",
    "lst=[10, 99, 98, 85, 45, 59, 65, 66, 76, 12, 35, 13, 100, 80, 95]\n",
    "i = 0\n",
    "while i < len(lst):\n",
    "    if lst[i] == 100:\n",
    "        print(\"There is a 100 at index no\"+str(i))\n",
    "    i = i+1"
   ]
  },
  {
   "cell_type": "code",
   "execution_count": 3,
   "metadata": {},
   "outputs": [
    {
     "name": "stdout",
     "output_type": "stream",
     "text": [
      "['Joe', 'Sarah', 'Mike', 'Jess', 'Matt', 'Greg']\n"
     ]
    }
   ],
   "source": [
    "lst1=[\"Joe\", \"Sarah\", \"Mike\", \"Jess\", \"\", \"Matt\", \"\", \"Greg\"]\n",
    "\n",
    "#Type your code here.\n",
    "\n",
    "def name_adder(lst):\n",
    "    i=0\n",
    "    lst2=[]\n",
    "    while i<len(lst):\n",
    "               \n",
    "        if lst[i]!=\"\":\n",
    "            \n",
    "            lst2.append(lst[i])\n",
    "        i=i+1\n",
    "    return(lst2)\n",
    "\n",
    "\n",
    "\n",
    "\n",
    "\n",
    "print(name_adder(lst1))\n"
   ]
  },
  {
   "cell_type": "code",
   "execution_count": 2,
   "metadata": {},
   "outputs": [
    {
     "name": "stdout",
     "output_type": "stream",
     "text": [
      "strin\\ng\n",
      "10\n",
      "9\n",
      "8\n",
      "7\n"
     ]
    }
   ],
   "source": [
    " name = \"string\"\n",
    "print('strin\\\\ng')\n",
    "for i in range(10,6,-1):\n",
    "    print(i)"
   ]
  },
  {
   "cell_type": "code",
   "execution_count": 5,
   "metadata": {},
   "outputs": [
    {
     "name": "stdout",
     "output_type": "stream",
     "text": [
      "rj"
     ]
    }
   ],
   "source": [
    "s=\"raj\"\n",
    "for i in s:\n",
    "    if i!= \"a\":\n",
    "        print(i, end=\"\")\n",
    "    "
   ]
  },
  {
   "cell_type": "code",
   "execution_count": 6,
   "metadata": {
    "scrolled": true
   },
   "outputs": [
    {
     "name": "stdout",
     "output_type": "stream",
     "text": [
      "0\n",
      "1\n",
      "2\n"
     ]
    }
   ],
   "source": [
    "s=\"raj\"\n",
    "for i in range(len(s)):\n",
    "    print(i)"
   ]
  },
  {
   "cell_type": "code",
   "execution_count": 9,
   "metadata": {},
   "outputs": [
    {
     "name": "stdout",
     "output_type": "stream",
     "text": [
      "r\n",
      "a\n",
      "j\n"
     ]
    }
   ],
   "source": [
    "s=\"raj\"\n",
    "for inde in range(len(s)):\n",
    "    print(s[inde])"
   ]
  },
  {
   "cell_type": "code",
   "execution_count": 13,
   "metadata": {},
   "outputs": [
    {
     "name": "stdout",
     "output_type": "stream",
     "text": [
      "j\n",
      "a\n",
      "R\n",
      "jaR\n"
     ]
    }
   ],
   "source": [
    "s=\"Raj\"\n",
    "for i in range(len(s)-1,-1,-1):\n",
    "    print(s[i])\n",
    "print(s[::-1])"
   ]
  },
  {
   "cell_type": "code",
   "execution_count": 16,
   "metadata": {},
   "outputs": [
    {
     "name": "stdout",
     "output_type": "stream",
     "text": [
      "0 7\n",
      "1 8\n",
      "2 9\n"
     ]
    }
   ],
   "source": [
    "x=[7,8,9]\n",
    "for index,item in enumerate(x):\n",
    "    print(index,item)"
   ]
  },
  {
   "cell_type": "code",
   "execution_count": 17,
   "metadata": {},
   "outputs": [
    {
     "name": "stdout",
     "output_type": "stream",
     "text": [
      "2\n"
     ]
    }
   ],
   "source": [
    "x = \"hippo\"\n",
    "print(x.index('p'))"
   ]
  },
  {
   "cell_type": "code",
   "execution_count": 21,
   "metadata": {},
   "outputs": [
    {
     "name": "stdout",
     "output_type": "stream",
     "text": [
      "30.1\n"
     ]
    }
   ],
   "source": [
    "def cal_fn(first,second):\n",
    "    result = first+second\n",
    "    return(result)\n",
    "print(cal_fn(10,20.1))"
   ]
  },
  {
   "cell_type": "code",
   "execution_count": 26,
   "metadata": {},
   "outputs": [
    {
     "name": "stdout",
     "output_type": "stream",
     "text": [
      "first:45\n",
      "second:89\n",
      "134.0\n"
     ]
    }
   ],
   "source": [
    "first = input(\"first:\")\n",
    "second = input(\"second:\")\n",
    "sum = float(first)+float(second)\n",
    "print(sum)"
   ]
  },
  {
   "cell_type": "code",
   "execution_count": 19,
   "metadata": {},
   "outputs": [
    {
     "name": "stdout",
     "output_type": "stream",
     "text": [
      "10 20.1\n"
     ]
    }
   ],
   "source": [
    "print(10,20.1)"
   ]
  },
  {
   "cell_type": "code",
   "execution_count": 28,
   "metadata": {},
   "outputs": [
    {
     "name": "stdout",
     "output_type": "stream",
     "text": [
      "[2, 4, 3, 5, 6, 4]\n"
     ]
    }
   ],
   "source": [
    "l1=[2,4,3]\n",
    "l2=[5,6,4]\n",
    "def ar_sum(l1,l2):\n",
    "    result = l1+l2\n",
    "    return(result)\n",
    "print(ar_sum(l1,l2))"
   ]
  },
  {
   "cell_type": "code",
   "execution_count": 30,
   "metadata": {},
   "outputs": [
    {
     "name": "stdout",
     "output_type": "stream",
     "text": [
      "[ 7 10  7]\n"
     ]
    }
   ],
   "source": [
    "# python 2-d Array\n",
    "import numpy as np\n",
    "\n",
    "# define 2 different arrays\n",
    "l1=np.array([2,4,3])\n",
    "l2 =np.array([5,6,4])\n",
    "res= l1+l2\n",
    "print(res)\n",
    "\n",
    "\n"
   ]
  },
  {
   "cell_type": "code",
   "execution_count": 31,
   "metadata": {},
   "outputs": [
    {
     "data": {
      "text/plain": [
       "array([ 7, 10,  7])"
      ]
     },
     "execution_count": 31,
     "metadata": {},
     "output_type": "execute_result"
    }
   ],
   "source": [
    "import numpy as np\n",
    "\n",
    "# define 2 different arrays\n",
    "l1=np.array([2,4,3])\n",
    "l2 =np.array([5,6,4])\n",
    "np.add(l1,l2)"
   ]
  },
  {
   "cell_type": "code",
   "execution_count": 34,
   "metadata": {},
   "outputs": [
    {
     "name": "stdout",
     "output_type": "stream",
     "text": [
      "11 12 5 2 \n",
      "15 6 10 \n",
      "10 8 12 5 \n",
      "12 15 8 6 \n"
     ]
    }
   ],
   "source": [
    "from array import *\n",
    "T = [[11,12,5,2],[15,6,10],[10,8,12,5],[12,15,8,6]]\n",
    "for r in T:\n",
    "    for c in r:\n",
    "        print(c, end=\" \")\n",
    "    print()"
   ]
  },
  {
   "cell_type": "code",
   "execution_count": 35,
   "metadata": {},
   "outputs": [
    {
     "name": "stdout",
     "output_type": "stream",
     "text": [
      "11 12 5 2 \n",
      "15 6 10 \n",
      "0 3 11 13 7 \n",
      "10 8 12 5 \n",
      "12 15 8 6 \n"
     ]
    }
   ],
   "source": [
    "from array import *\n",
    "T = [[11,12,5,2],[15,6,10],[10,8,12,5],[12,15,8,6]]\n",
    "T.insert(2,[0,3,11,13,7])\n",
    "for r in T:\n",
    "    for c in r:\n",
    "        print(c, end=\" \")\n",
    "    print()"
   ]
  },
  {
   "cell_type": "code",
   "execution_count": 37,
   "metadata": {},
   "outputs": [
    {
     "name": "stdout",
     "output_type": "stream",
     "text": [
      "11 12 5 7 \n",
      "15 6 10 \n",
      "11 9 \n",
      "12 15 8 6 \n"
     ]
    }
   ],
   "source": [
    "# updating 2 dimentional array \n",
    "from array import *\n",
    "T = [[11,12,5,2],[15,6,10],[10,8,12,5],[12,15,8,6]]\n",
    "T[2] =[11,9]\n",
    "T[0][3] =7\n",
    "\n",
    "for r in T:\n",
    "    for c in r:\n",
    "        print(c,end=\" \")\n",
    "    print()"
   ]
  },
  {
   "cell_type": "code",
   "execution_count": 38,
   "metadata": {},
   "outputs": [
    {
     "name": "stdout",
     "output_type": "stream",
     "text": [
      "11 12 5 2 \n",
      "15 6 10 \n",
      "10 8 12 5 \n"
     ]
    }
   ],
   "source": [
    "#Deleting the values in 2 dimentional array\n",
    "from array import *\n",
    "T = [[11,12,5,2],[15,6,10],[10,8,12,5],[12,15,8,6]]\n",
    "del T[3]\n",
    "\n",
    "for r in T:\n",
    "    for c in r:\n",
    "        print(c,end=\" \")\n",
    "    print()"
   ]
  },
  {
   "cell_type": "code",
   "execution_count": 44,
   "metadata": {},
   "outputs": [
    {
     "name": "stdout",
     "output_type": "stream",
     "text": [
      "120\n"
     ]
    }
   ],
   "source": [
    "def product_1_to_n(n):\n",
    "    result =1\n",
    "    for num in range(1,n+1):\n",
    "#         result*= num\n",
    "        result =result* num\n",
    "    return result\n",
    "    \n",
    "print(product_1_to_n(5))    \n"
   ]
  },
  {
   "cell_type": "code",
   "execution_count": 45,
   "metadata": {},
   "outputs": [
    {
     "name": "stdout",
     "output_type": "stream",
     "text": [
      "120\n"
     ]
    }
   ],
   "source": [
    "#simple recursive program to find factorial\n",
    "def facto(num):\n",
    "    if num==1:\n",
    "        return 1\n",
    "    else:\n",
    "        return num*facto(num-1)\n",
    "    \n",
    "print(facto(5))"
   ]
  }
 ],
 "metadata": {
  "kernelspec": {
   "display_name": "Python 3",
   "language": "python",
   "name": "python3"
  },
  "language_info": {
   "codemirror_mode": {
    "name": "ipython",
    "version": 3
   },
   "file_extension": ".py",
   "mimetype": "text/x-python",
   "name": "python",
   "nbconvert_exporter": "python",
   "pygments_lexer": "ipython3",
   "version": "3.7.4"
  }
 },
 "nbformat": 4,
 "nbformat_minor": 2
}
