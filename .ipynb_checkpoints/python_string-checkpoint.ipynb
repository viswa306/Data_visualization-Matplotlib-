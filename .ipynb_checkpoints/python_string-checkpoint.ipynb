{
 "cells": [
  {
   "cell_type": "code",
   "execution_count": 1,
   "metadata": {},
   "outputs": [],
   "source": [
    "\n",
    "\n",
    "\n",
    "# Source: https://pynative.com/python-string-exercise/\n",
    "import pandas as pd\n"
   ]
  },
  {
   "cell_type": "code",
   "execution_count": 6,
   "metadata": {},
   "outputs": [
    {
     "name": "stdout",
     "output_type": "stream",
     "text": [
      "Dip\n"
     ]
    }
   ],
   "source": [
    "#1: Given a string of odd length greater 7, return a string made of the middle three chars of a given String\n",
    "str1 =\"JohnDipeta\"\n",
    "str2 = \" jasonay\"\n",
    "str3 =str1[4:7]\n",
    "print(str3)"
   ]
  },
  {
   "cell_type": "code",
   "execution_count": 8,
   "metadata": {},
   "outputs": [
    {
     "name": "stdout",
     "output_type": "stream",
     "text": [
      "Original string is johndippeta\n",
      "middle three chars are  dip\n",
      "Original string is jasonay\n",
      "middle three chars are  son\n"
     ]
    }
   ],
   "source": [
    "def getmidchars(samplestr):\n",
    "    middleindex =int(len(samplestr)/2)\n",
    "    print(\"Original string is\",samplestr)\n",
    "    middlethree = samplestr[middleindex-1:middleindex+2]\n",
    "    print(\"middle three chars are \",middlethree)\n",
    "getmidchars(\"johndippeta\")\n",
    "getmidchars(\"jasonay\")"
   ]
  },
  {
   "cell_type": "code",
   "execution_count": 10,
   "metadata": {},
   "outputs": [
    {
     "name": "stdout",
     "output_type": "stream",
     "text": [
      "AultKelly\n"
     ]
    }
   ],
   "source": [
    "# 2: Given 2 strings, s1 and s2, create a new string by appending s2 in the middle of s1\n",
    "s1 = \"Ault\"\n",
    "s2 = \"Kelly\"\n",
    "newstr = s1+s2\n",
    "print(newstr)\n"
   ]
  },
  {
   "cell_type": "code",
   "execution_count": 21,
   "metadata": {},
   "outputs": [
    {
     "name": "stdout",
     "output_type": "stream",
     "text": [
      "2\n",
      "Original strings are  autl kelly\n",
      "aukellyt\n",
      "after appending newstring in middle aukellytl\n"
     ]
    }
   ],
   "source": [
    "def appendmidstr(s1,s2):\n",
    "    middleindex =int(len(s1)/2)\n",
    "    print(middleindex)\n",
    "    print(\"Original strings are \",s1,s2)\n",
    "    middlethree = s1[:middleindex:]+ s2+s1[middleindex:]\n",
    "    print (s1[:middleindex]+s2+s1[middleindex])\n",
    "    print(\"after appending newstring in middle\",middlethree)\n",
    "appendmidstr(\"autl\",\"kelly\")"
   ]
  },
  {
   "cell_type": "code",
   "execution_count": 28,
   "metadata": {},
   "outputs": [
    {
     "name": "stdout",
     "output_type": "stream",
     "text": [
      "mix string is Ajrpan\n"
     ]
    }
   ],
   "source": [
    "# 3: Given 2 strings, s1, and s2 return a new string made of the first, middle and last char each input string\n",
    "def max_str(s1,s2):\n",
    "    first_char =s1[:1]+s2[:1]\n",
    "    middle_char =s1[int(len(s1)/2):int(len(s1)/2) + 1]+s2[int(len(s2)/2):int(len(s2)/2)+1]\n",
    "   # last_char = s1[len(s1)-1]+s2[len(s2)-1]\n",
    "    last_char = s1[-1]+s2[-1]\n",
    "    res = first_char +middle_char+ last_char\n",
    "    print(\"mix string is\",res)\n",
    "s1 = \"America\"\n",
    "s2 =\"japan\"\n",
    "max_str(s1,s2)"
   ]
  },
  {
   "cell_type": "code",
   "execution_count": 31,
   "metadata": {},
   "outputs": [
    {
     "name": "stdout",
     "output_type": "stream",
     "text": [
      "arranging characters giving precednce to lowercase letters:\n",
      "pyaiveNT\n"
     ]
    }
   ],
   "source": [
    "#4: Arrange string characters such that lowercase letters should come first\n",
    "str1 = \"pyNaTive\"\n",
    "lower =[]\n",
    "upper =[]\n",
    "for char in str1:\n",
    "    if char.islower():\n",
    "        lower.append(char)\n",
    "    else:\n",
    "        upper.append(char)\n",
    "    sorted_string =\"\".join(lower+upper)\n",
    "print(\"arranging characters giving precednce to lowercase letters:\")\n",
    "\n",
    "print(sorted_string)\n",
    "         "
   ]
  },
  {
   "cell_type": "code",
   "execution_count": 39,
   "metadata": {},
   "outputs": [
    {
     "name": "stdout",
     "output_type": "stream",
     "text": [
      "total counts of chars, digits,and symbols \n",
      "\n",
      "Chars =  8 Digits =  3 Symbol =  4\n"
     ]
    }
   ],
   "source": [
    "# 5: Count all lower case, upper case, digits, and special symbols from a given string\n",
    "#str =\"P@#yn26at^&i5ve\"\n",
    "def countstringchar(inputstring):\n",
    "    charcnt =0\n",
    "    digitcnt=0\n",
    "    symbolcnt=0\n",
    "    for char in inputstring:\n",
    "        if char.islower() or char.isupper():\n",
    "            charcnt =charcnt+1\n",
    "        elif char.isnumeric():\n",
    "            digitcnt+=1\n",
    "        else:\n",
    "            symbolcnt+=1\n",
    "    print(\"Chars = \", charcnt, \"Digits = \", digitcnt, \"Symbol = \", symbolcnt)\n",
    "inputstring = \"P@#yn26at^&i5ve\"\n",
    "print(\"total counts of chars, digits,and symbols \\n\")\n",
    "\n",
    "countstringchar(inputstring)\n",
    "      \n",
    "        \n",
    "            "
   ]
  },
  {
   "cell_type": "code",
   "execution_count": 11,
   "metadata": {},
   "outputs": [],
   "source": [
    "s1 = \"Abc\"\n",
    "s2 = \"Xyz\""
   ]
  },
  {
   "cell_type": "code",
   "execution_count": 12,
   "metadata": {},
   "outputs": [
    {
     "name": "stdout",
     "output_type": "stream",
     "text": [
      "zyX\n",
      "3\n",
      "3\n",
      "3\n"
     ]
    }
   ],
   "source": [
    "s3 =s2[::-1]\n",
    "print(s3)\n",
    "lengths1 = len(s1)\n",
    "lengths2 = len(s2)\n",
    "print(lengths1)\n",
    "print(lengths2)\n",
    "length = lengths1 if lengths1 > lengths2 else lengths2\n",
    "print(length)"
   ]
  },
  {
   "cell_type": "code",
   "execution_count": 15,
   "metadata": {},
   "outputs": [
    {
     "name": "stdout",
     "output_type": "stream",
     "text": [
      " AzbycX\n"
     ]
    }
   ],
   "source": [
    "def mixstring(s1,s2):\n",
    "    s2 =s2[::-1]\n",
    "    lengths1 = len(s1)\n",
    "    lengths2 = len(s2)\n",
    "    length = lengths1 if lengths1 > lengths2 else lengths2\n",
    "    resultstring =\" \"\n",
    "    for i in range(length):\n",
    "        if (i <lengths1):\n",
    "                       \n",
    "            resultstring =  resultstring+s1[i]\n",
    "        if(i<lengths2):\n",
    "             resultstring = resultstring+s2[i]\n",
    "    print(resultstring)\n",
    "  \n",
    "s1 = \"Abc\"\n",
    "s2 = \"Xyz\"\n",
    "mixstring(s1, s2)"
   ]
  },
  {
   "cell_type": "code",
   "execution_count": 21,
   "metadata": {},
   "outputs": [
    {
     "name": "stdout",
     "output_type": "stream",
     "text": [
      "s1 and s2 are balanced False\n"
     ]
    }
   ],
   "source": [
    "#7: String characters balance Test\n",
    "#We’ll say that a String s1 and s2 is balanced if all the chars in the s1 are there in s2. characters position doesn’t matter.\n",
    "def stringbalcecheck(s1,s2):\n",
    "    flag = True\n",
    "    for char in s1:\n",
    "        if char in s2:\n",
    "            continue\n",
    "        else:\n",
    "            flag = False\n",
    "    return flag\n",
    "s1 =\"yn\"\n",
    "s2= \"Mohith\"\n",
    "flag = stringbalancecheck(s1,s2)\n",
    "print(\"s1 and s2 are balanced\",flag)\n",
    "        \n"
   ]
  },
  {
   "cell_type": "code",
   "execution_count": 25,
   "metadata": {},
   "outputs": [
    {
     "name": "stdout",
     "output_type": "stream",
     "text": [
      "welcome to usa. usa awesome, isn't it?\n",
      "The usa count is 1\n",
      "The usa count is 2\n"
     ]
    }
   ],
   "source": [
    "# 8: Find all occurrences of “USA” in given string ignoring the case\n",
    "str1 = \"Welcome to USA. usa awesome, isn't it?\"\n",
    "substring =\"USA\"\n",
    "tempstring = str1.lower()\n",
    "print(tempstring)\n",
    "count = str1.count(substring.lower())\n",
    "print(\"The usa count is\",count)\n",
    "count1 = tempstring.count(substring.lower())\n",
    "print(\"The usa count is\", count1)\n"
   ]
  },
  {
   "cell_type": "code",
   "execution_count": null,
   "metadata": {},
   "outputs": [],
   "source": [
    "import re\n",
    "\n",
    "inputStr = \"English = 78 Science = 83 Math = 68 History = 65\"\n",
    "markList = [int(num) for num in re.findall(r'\\b\\d+\\b', inputStr)]\n",
    "totalMarks = 0\n",
    "for mark in markList:\n",
    "  totalMarks+=mark\n",
    "\n",
    "percentage = totalMarks/len(markList)  \n",
    "print(\"Total Marks is:\", totalMarks, \"Percentage is \", percentage)"
   ]
  },
  {
   "cell_type": "code",
   "execution_count": 29,
   "metadata": {},
   "outputs": [
    {
     "name": "stdout",
     "output_type": "stream",
     "text": [
      "[78, 83, 68, 65]\n",
      "Total marks is: 294 percentage is  73.5\n"
     ]
    }
   ],
   "source": [
    "# 9: Given a string, return the sum and average of the digits that appear in the string, ignoring all other characters\n",
    "import re\n",
    "\n",
    "str1 = \"English = 78 Science = 83 Math = 68 History = 65\"\n",
    "\n",
    "marklist = [int(num) for num in re.findall(r'\\b\\d+\\b',str1)]\n",
    "print(marklist)\n",
    "totalmarks =0\n",
    "for mark in marklist:\n",
    "    totalmarks+= mark\n",
    "percentage = totalmarks/len(marklist)\n",
    "print(\"Total marks is:\",totalmarks,\"percentage is \",percentage)"
   ]
  },
  {
   "cell_type": "code",
   "execution_count": 34,
   "metadata": {},
   "outputs": [
    {
     "name": "stdout",
     "output_type": "stream",
     "text": [
      "1\n",
      "2\n",
      "2\n",
      "1\n",
      "1\n",
      "{'A': 1, 'p': 2, 'l': 1, 'e': 1}\n"
     ]
    }
   ],
   "source": [
    "#10: Given an input string, count occurrences of all characters within a string\n",
    "str1 = \"Apple\"\n",
    "tempstr=dict()\n",
    "for char in str1:\n",
    "    count = str1.count(char)\n",
    "    print(count)\n",
    "    tempstr[char]= count\n",
    "print(tempstr)\n"
   ]
  },
  {
   "cell_type": "code",
   "execution_count": 37,
   "metadata": {},
   "outputs": [
    {
     "name": "stdout",
     "output_type": "stream",
     "text": [
      "evitanYP\n"
     ]
    }
   ],
   "source": [
    "# 11: Reverse a given string\n",
    "str1 = \"PYnative\"\n",
    "\n",
    "reversstring = str1[::-1]\n",
    "\n",
    "print(reversstring)"
   ]
  },
  {
   "cell_type": "code",
   "execution_count": 38,
   "metadata": {},
   "outputs": [
    {
     "name": "stdout",
     "output_type": "stream",
     "text": [
      "Original string is PYnative\n",
      "reversed string is: evitanYP\n"
     ]
    }
   ],
   "source": [
    "str1 = \"PYnative\"\n",
    "print(\"Original string is\",str1)\n",
    "\n",
    "str1 = ''.join(reversed(str1))\n",
    "print(\"reversed string is:\",str1)"
   ]
  },
  {
   "cell_type": "code",
   "execution_count": 41,
   "metadata": {},
   "outputs": [
    {
     "name": "stdout",
     "output_type": "stream",
     "text": [
      "2\n"
     ]
    }
   ],
   "source": [
    "#12: Find the last position of a substring “Emma” in a given string\n",
    "str1 = \"Emma is a data scientist who knows Python. Emma works at google.\"\n",
    "substring =\"Emma\"\n",
    "temstring = str1.lower()\n",
    "count =temstring.count(substring.lower())\n",
    "print(count)"
   ]
  },
  {
   "cell_type": "code",
   "execution_count": 42,
   "metadata": {},
   "outputs": [
    {
     "name": "stdout",
     "output_type": "stream",
     "text": [
      "Original String is: Emma is a data scientist who knows Python. Emma works at google.\n",
      "43\n"
     ]
    }
   ],
   "source": [
    "str1 = \"Emma is a data scientist who knows Python. Emma works at google.\"\n",
    "print(\"Original String is:\", str1)\n",
    "index = str1.rfind(\"Emma\")\n",
    "print(index)"
   ]
  },
  {
   "cell_type": "code",
   "execution_count": 44,
   "metadata": {},
   "outputs": [
    {
     "name": "stdout",
     "output_type": "stream",
     "text": [
      "original string Emma-is-a-data-scientist\n",
      "displaying each substring\n",
      "Emma\n",
      "is\n",
      "a\n",
      "data\n",
      "scientist\n"
     ]
    }
   ],
   "source": [
    "#13: Split a given string on hyphens into several substrings and display each substring\n",
    "str1 = \"Emma-is-a-data-scientist\"\n",
    "print(\"original string\",str1)\n",
    "\n",
    "#split string\n",
    "substring =str1.split(\"-\")\n",
    "print(\"displaying each substring\")\n",
    "for sub in substring:\n",
    "    print(sub)\n"
   ]
  },
  {
   "cell_type": "code",
   "execution_count": 46,
   "metadata": {},
   "outputs": [
    {
     "name": "stdout",
     "output_type": "stream",
     "text": [
      "original string is: ['Emma', 'Jon', '', 'Kelly', None, 'Eric', '']\n",
      "['Emma', 'Jon', 'Kelly', 'Eric']\n"
     ]
    }
   ],
   "source": [
    "#14: Remove empty strings from a list of strings\n",
    "str_list = [\"Emma\", \"Jon\", \"\", \"Kelly\", None, \"Eric\", \"\"]\n",
    "print(\"original string is:\",str_list)\n",
    "\n",
    "#use built in function filter empty value\n",
    "newstr = list(filter(None,str_list))\n",
    "print(newstr)\n"
   ]
  },
  {
   "cell_type": "code",
   "execution_count": 47,
   "metadata": {},
   "outputs": [
    {
     "name": "stdout",
     "output_type": "stream",
     "text": [
      "original string is /*Jon is @developer & musician\n",
      "Newstring is Jon is developer  musician\n"
     ]
    }
   ],
   "source": [
    "#15: Remove special symbols/Punctuation from a given string\n",
    "\n",
    "import string\n",
    "\n",
    "str1 = \"/*Jon is @developer & musician\"\n",
    "print(\"original string is\",str1)\n",
    "\n",
    "#use translate function of astring\n",
    "#and maketrans function of str class\n",
    "\n",
    "newstr = str1.translate(str.maketrans('','',string.punctuation))\n",
    "\n",
    "print(\"Newstring is\",newstr)\n"
   ]
  },
  {
   "cell_type": "code",
   "execution_count": 50,
   "metadata": {},
   "outputs": [
    {
     "name": "stdout",
     "output_type": "stream",
     "text": [
      "original string is /*Jon is @developer & musician\n",
      "New string is  Jon is developer  musician\n"
     ]
    }
   ],
   "source": [
    "import re\n",
    "str1 =\"/*Jon is @developer & musician\"\n",
    "print(\"original string is\",str1)\n",
    "\n",
    "str2 = re.sub(r'[^\\w\\s]','',str1)\n",
    "print(\"New string is \",str2)"
   ]
  },
  {
   "cell_type": "code",
   "execution_count": 51,
   "metadata": {},
   "outputs": [
    {
     "name": "stdout",
     "output_type": "stream",
     "text": [
      "Original string is I am 25 years and 10 months old\n",
      "2510\n"
     ]
    }
   ],
   "source": [
    "#16: Removal all the characters other than integers from string\n",
    "str1 = 'I am 25 years and 10 months old'\n",
    "print(\"Original string is\", str1)\n",
    "\n",
    "#Retain Numbers in string\n",
    "# Using list comprehension + join() + isdigit()\n",
    "\n",
    "res = \"\".join([item for item in str1 if item.isdigit()])\n",
    "\n",
    "print(res)"
   ]
  },
  {
   "cell_type": "code",
   "execution_count": null,
   "metadata": {},
   "outputs": [],
   "source": [
    "str1 = \"Emma25 is Data scientist50 and AI Expert\"\n",
    "print(\"The original string is : \" + str1)\n",
    "\n",
    "# Words with both alphabets and numbers\n",
    "# isdigit() for numbers + isalpha() for alphabets\n",
    "# use any() to check each character\n",
    "\n",
    "res = []\n",
    "temp = str1.split()\n",
    "for item in temp:\n",
    "    if any(char.isalpha() for char in item) and any(char.isdigit() for char in item):\n",
    "        res.append(item)\n",
    "\n",
    "print(\"Displaying words with alphabets and numbers\")\n",
    "for i in res:\n",
    "    print(i)"
   ]
  },
  {
   "cell_type": "code",
   "execution_count": 54,
   "metadata": {},
   "outputs": [
    {
     "name": "stdout",
     "output_type": "stream",
     "text": [
      "The original string is: Emma25 is Data scientist50 and AI Expert\n",
      "['Emma25', 'is', 'Data', 'scientist50', 'and', 'AI', 'Expert']\n",
      "Displaying words with alphabets and numbers\n",
      "Emma25\n",
      "scientist50\n"
     ]
    }
   ],
   "source": [
    "#17: Find words with both alphabets and numbers\n",
    "str1 = \"Emma25 is Data scientist50 and AI Expert\"\n",
    "print(\"The original string is:\",str1)\n",
    "\n",
    "# Words with both alphabets and numbers\n",
    "# isdigit() for numbers + isalpha() for alphabets\n",
    "# use any() to check each character\n",
    "\n",
    "res =[]\n",
    "temp = str1.split()\n",
    "print(temp)\n",
    "for item in temp:\n",
    "    if any(char.isalpha() for char in item) and any(char.isdigit() for char in item):\n",
    "        res.append(item)\n",
    "print(\"Displaying words with alphabets and numbers\")\n",
    "for i in res:\n",
    "    print(i)\n",
    "    \n"
   ]
  },
  {
   "cell_type": "code",
   "execution_count": null,
   "metadata": {},
   "outputs": [],
   "source": [
    "from string import punctuation\n",
    "\n",
    "str1 = '/*Jon is @developer & musician!!'\n",
    "print(\"The original string is : \", str1)\n",
    "\n",
    "# Replace punctuations with #\n",
    "replace_char = '#'\n",
    "\n",
    "# Using string.punctuation to get the list of all punctuations\n",
    "# use string function replace() to replace each punctuation with #\n",
    "\n",
    "for char in punctuation:\n",
    "    str1 = str1.replace(char, replace_char)\n",
    "\n",
    "print(\"The strings after replacement : \", str1)"
   ]
  },
  {
   "cell_type": "code",
   "execution_count": 59,
   "metadata": {},
   "outputs": [
    {
     "name": "stdout",
     "output_type": "stream",
     "text": [
      "The original string is: /*Jon is @developer & musician!!\n",
      "The strings after replacement: ##Jon is #developer # musician##\n"
     ]
    }
   ],
   "source": [
    "# 18: From given string replace each punctuation with #\n",
    "from string import punctuation\n",
    "\n",
    "str1= '/*Jon is @developer & musician!!'\n",
    "print(\"The original string is:\",str1)\n",
    "\n",
    "#replace punctuations with #\n",
    "replace_char = '#'\n",
    "\n",
    "#using string.punctuation to get the list of all punctuactions\n",
    "#use string function replace() to replace each punctuation with #\n",
    "\n",
    "for char in punctuation:\n",
    "    str1 =str1.replace(char,replace_char)\n",
    "\n",
    "print(\"The strings after replacement:\",str1)\n",
    "\n",
    "\n"
   ]
  }
 ],
 "metadata": {
  "kernelspec": {
   "display_name": "Python 3",
   "language": "python",
   "name": "python3"
  },
  "language_info": {
   "codemirror_mode": {
    "name": "ipython",
    "version": 3
   },
   "file_extension": ".py",
   "mimetype": "text/x-python",
   "name": "python",
   "nbconvert_exporter": "python",
   "pygments_lexer": "ipython3",
   "version": "3.7.4"
  }
 },
 "nbformat": 4,
 "nbformat_minor": 2
}
