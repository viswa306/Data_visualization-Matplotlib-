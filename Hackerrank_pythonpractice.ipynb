{
 "cells": [
  {
   "cell_type": "code",
   "execution_count": null,
   "metadata": {},
   "outputs": [],
   "source": [
    "# import dependencies\n",
    "import pandas as pd\n",
    "import re\n",
    "import seaborn as sns\n",
    "print('Python: {}'.format(sys.version))"
   ]
  },
  {
   "cell_type": "code",
   "execution_count": null,
   "metadata": {},
   "outputs": [],
   "source": [
    "import sys\n",
    "import numpy\n",
    "import pandas\n",
    "import matplotlib\n",
    "import seaborn\n",
    "import scipy\n",
    "\n",
    "print('Python: {}'.format(sys.version))\n",
    "print('Numpy: {}'.format(numpy.__version__))\n",
    "print('Pandas: {}'.format(pandas.__version__))\n",
    "print('Matplotlib: {}'.format(matplotlib.__version__))\n",
    "print('Seaborn: {}'.format(seaborn.__version__))\n",
    "print('Scipy: {}'.format(scipy.__version__))"
   ]
  },
  {
   "cell_type": "code",
   "execution_count": null,
   "metadata": {},
   "outputs": [],
   "source": [
    "def in_leap(year):\n",
    "    if year%400==0:\n",
    "        return True\n",
    "    if year%100==0:\n",
    "        return True\n",
    "    if year%4==0:\n",
    "        return True\n",
    "    else:\n",
    "        return False\n",
    "year =int(input())\n",
    "print(in_leap(year))\n",
    "    "
   ]
  },
  {
   "cell_type": "code",
   "execution_count": null,
   "metadata": {},
   "outputs": [],
   "source": [
    "if __name__ == '__main__':\n",
    "    n = int(input())\n",
    "    print('{0}\\n{1}\\n{2}',n-2,n-1,n)"
   ]
  },
  {
   "cell_type": "code",
   "execution_count": null,
   "metadata": {},
   "outputs": [],
   "source": [
    "if __name__ == '__main__':\n",
    "    n = int(input())\n",
    "    print(\"output............\")\n",
    "    for i in range(n):\n",
    "        if i<=n:\n",
    "            print(i+1,end='')"
   ]
  },
  {
   "cell_type": "code",
   "execution_count": null,
   "metadata": {},
   "outputs": [],
   "source": [
    "regex_integer_in_range = r\"_________\"\t# Do not delete 'r'.\n",
    "regex_alternating_repetitive_digit_pair = r\"_________\"\t# Do not delete 'r'.\n",
    "print(regex_integer_in_range)\n",
    "print(regex_alternating_repetitive_digit_pair)"
   ]
  },
  {
   "cell_type": "code",
   "execution_count": null,
   "metadata": {},
   "outputs": [],
   "source": [
    "import re\n",
    "P = input()\n",
    "\n",
    "print (bool(re.match(regex_integer_in_range, P)) \n",
    "and len(re.findall(regex_alternating_repetitive_digit_pair, P)) < 2)"
   ]
  },
  {
   "cell_type": "code",
   "execution_count": null,
   "metadata": {},
   "outputs": [],
   "source": []
  },
  {
   "cell_type": "code",
   "execution_count": null,
   "metadata": {},
   "outputs": [],
   "source": [
    "def inn(p):\n",
    "    return 100000 <= int(p) <= 999999\n",
    "\n",
    "\n",
    "def imm(p):\n",
    "    l = []\n",
    "    for i in range(len(p) - 2):\n",
    "        l.append(p[i] != p[i + 2])\n",
    "\n",
    "    return all(l)\n",
    "\n",
    "\n",
    "def is_valid(p):\n",
    "    return (p.isdigit() and inn(p)) and (p != \"110000\")# and imm(p)\n",
    "\n",
    "\n",
    "def main():\n",
    "    p = input()\n",
    "    print(is_valid(p))\n",
    "    \n",
    "    \n",
    "main()"
   ]
  },
  {
   "cell_type": "code",
   "execution_count": null,
   "metadata": {},
   "outputs": [],
   "source": [
    "#Given list is . The maximum score is 6, second maximum is5 . Hence, we print 5 as the runner-up score.\n",
    "if __name__ == '__main__':\n",
    "    n = int(input())\n",
    "    arr = map(int, input().split())\n",
    "    print(max(arr))"
   ]
  },
  {
   "cell_type": "code",
   "execution_count": null,
   "metadata": {},
   "outputs": [],
   "source": [
    "if __name__ == '__main__':\n",
    "    n = int(input())\n",
    "    arr = list(map(int, input().split()))\n",
    "    arr.sort()\n",
    "    max1=arr[-1]\n",
    "    print(\"---------------------\")\n",
    "    print(max1)\n",
    "    arr.sort(reverse=True)\n",
    "    for x in arr:\n",
    "        if x!=max1:\n",
    "            result = x\n",
    "            print(result)\n",
    "            break"
   ]
  },
  {
   "cell_type": "code",
   "execution_count": null,
   "metadata": {},
   "outputs": [],
   "source": [
    "\n",
    "# creating an array containing same  \n",
    "# data type elements  \n",
    "import array \n",
    "  \n",
    "sample_array = array.array( \"i\",[1, 2, 3])   \n",
    "  \n",
    "# accessing elements of array \n",
    "for i in sample_array: \n",
    "     print(i) "
   ]
  },
  {
   "cell_type": "code",
   "execution_count": null,
   "metadata": {},
   "outputs": [],
   "source": [
    "x, y, z, n = int(input()), int(input()), int(input()), int(input())\n",
    "print ([[a,b,c] for a in range(0,x+1) for b in range(0,y+1) for c in range(0,z+1) if a + b + c != n ])"
   ]
  },
  {
   "cell_type": "code",
   "execution_count": null,
   "metadata": {},
   "outputs": [],
   "source": [
    "x = int(input())\n",
    "y= int(input())\n",
    "Z = int(input())\n",
    "n = int(input())\n",
    "print([[a,b,c] for a in range(0,x+1) for b in range(0,y+1) for c])"
   ]
  },
  {
   "cell_type": "code",
   "execution_count": null,
   "metadata": {},
   "outputs": [],
   "source": [
    "#List Comprehensions\n",
    "\n",
    "if __name__ == '__main__':\n",
    "    x = int(input())\n",
    "    y = int(input())\n",
    "    z = int(input())\n",
    "    n = int(input())\n",
    "        \n",
    "    final_list =[]\n",
    "    for i in range(1+x):\n",
    "        for j in range(y+1):\n",
    "            for k in range(1+z):\n",
    "                if i+j+k!= n:\n",
    "                    temp =[i,j,k]\n",
    "                    final_list.append(temp)\n",
    "                else:\n",
    "                    continue\n",
    "    print(final_list)\n",
    "        "
   ]
  },
  {
   "cell_type": "code",
   "execution_count": 1,
   "metadata": {
    "collapsed": true
   },
   "outputs": [
    {
     "name": "stdout",
     "output_type": "stream",
     "text": [
      "23\n",
      "45\n",
      "67\n",
      "89\n",
      "12\n",
      "23\n",
      "45\n",
      "89\n",
      "98\n",
      "77\n",
      "756756\n",
      "\n",
      "\n"
     ]
    },
    {
     "ename": "ValueError",
     "evalue": "could not convert string to float: ",
     "output_type": "error",
     "traceback": [
      "\u001b[1;31m---------------------------------------------------------------------------\u001b[0m",
      "\u001b[1;31mValueError\u001b[0m                                Traceback (most recent call last)",
      "\u001b[1;32m<ipython-input-1-a04c9b1e9a68>\u001b[0m in \u001b[0;36m<module>\u001b[1;34m\u001b[0m\n\u001b[0;32m      2\u001b[0m     \u001b[1;32mfor\u001b[0m \u001b[0m_\u001b[0m \u001b[1;32min\u001b[0m \u001b[0mrange\u001b[0m\u001b[1;33m(\u001b[0m\u001b[0mint\u001b[0m\u001b[1;33m(\u001b[0m\u001b[0minput\u001b[0m\u001b[1;33m(\u001b[0m\u001b[1;33m)\u001b[0m\u001b[1;33m)\u001b[0m\u001b[1;33m)\u001b[0m\u001b[1;33m:\u001b[0m\u001b[1;33m\u001b[0m\u001b[1;33m\u001b[0m\u001b[0m\n\u001b[0;32m      3\u001b[0m         \u001b[0mname\u001b[0m \u001b[1;33m=\u001b[0m \u001b[0minput\u001b[0m\u001b[1;33m(\u001b[0m\u001b[1;33m)\u001b[0m\u001b[1;33m\u001b[0m\u001b[1;33m\u001b[0m\u001b[0m\n\u001b[1;32m----> 4\u001b[1;33m         \u001b[0mscore\u001b[0m \u001b[1;33m=\u001b[0m \u001b[0mfloat\u001b[0m\u001b[1;33m(\u001b[0m\u001b[0minput\u001b[0m\u001b[1;33m(\u001b[0m\u001b[1;33m)\u001b[0m\u001b[1;33m)\u001b[0m\u001b[1;33m\u001b[0m\u001b[1;33m\u001b[0m\u001b[0m\n\u001b[0m\u001b[0;32m      5\u001b[0m \u001b[0ml\u001b[0m \u001b[1;33m=\u001b[0m \u001b[1;33m[\u001b[0m\u001b[1;33m]\u001b[0m\u001b[1;33m\u001b[0m\u001b[1;33m\u001b[0m\u001b[0m\n\u001b[0;32m      6\u001b[0m \u001b[0msecond_lowest_names\u001b[0m \u001b[1;33m=\u001b[0m \u001b[1;33m[\u001b[0m\u001b[1;33m]\u001b[0m\u001b[1;33m\u001b[0m\u001b[1;33m\u001b[0m\u001b[0m\n",
      "\u001b[1;31mValueError\u001b[0m: could not convert string to float: "
     ]
    }
   ],
   "source": [
    "if __name__ == '__main__':\n",
    "    for _ in range(int(input())):\n",
    "        name = input()\n",
    "        score = float(input())\n",
    "l = []\n",
    "second_lowest_names = []\n",
    "scores = set()\n",
    "\n",
    "for _ in range(int(input())):\n",
    "    name = input()\n",
    "    score = float(input())\n",
    "    l.append([name, score])\n",
    "    scores.add(score)\n",
    "        \n",
    "second_lowest = sorted(scores)[1]\n",
    "\n",
    "for name, score in l:\n",
    "    if score == second_lowest:\n",
    "        second_lowest_names.append(name)\n",
    "\n",
    "for name in sorted(second_lowest_names):\n",
    "    print(name, end='\\n')"
   ]
  },
  {
   "cell_type": "code",
   "execution_count": 7,
   "metadata": {},
   "outputs": [
    {
     "name": "stdout",
     "output_type": "stream",
     "text": [
      "2\n",
      "aa\n",
      "34\n",
      "dd\n",
      "56\n",
      "dd\n"
     ]
    }
   ],
   "source": [
    "# if __name__ == '__main__':\n",
    "final_list =[]\n",
    "marks=[]\n",
    "for _ in range(int(input())):\n",
    "    l= list()\n",
    "    l.append(input())\n",
    "    score = float(input())\n",
    "    l.append(score)\n",
    "    marks.append(score)\n",
    "    final_list.append(l)\n",
    "marks.sort()\n",
    "min_value = marks[0]\n",
    "marks.remove(min_value)\n",
    "for i in marks:\n",
    "    if i>min_value:\n",
    "        Result_value = i\n",
    "        break\n",
    "Result_names=[]\n",
    "for i in range(len(final_list)):\n",
    "    if Result_value in final_list[i]:\n",
    "        Result_names.append(final_list[i][0])\n",
    "Result_names.sort()\n",
    "for i in Result_names:\n",
    "    print(i)"
   ]
  },
  {
   "cell_type": "code",
   "execution_count": 4,
   "metadata": {
    "collapsed": true
   },
   "outputs": [
    {
     "name": "stdout",
     "output_type": "stream",
     "text": [
      "12\n",
      "test\n",
      "45\n",
      "yy\n",
      "67\n",
      "trtr\n",
      "78\n",
      "dff\n",
      "67\n",
      "asdd\n",
      "67\n",
      "afafaf\n",
      "56756\n",
      "fhgfh\n",
      "65765\n",
      "dfgdfgd\n",
      "76\n",
      "xvbxcv\n",
      "rtyr\n"
     ]
    },
    {
     "ename": "ValueError",
     "evalue": "could not convert string to float: 'rtyr'",
     "output_type": "error",
     "traceback": [
      "\u001b[1;31m---------------------------------------------------------------------------\u001b[0m",
      "\u001b[1;31mValueError\u001b[0m                                Traceback (most recent call last)",
      "\u001b[1;32m<ipython-input-4-58b71161a222>\u001b[0m in \u001b[0;36m<module>\u001b[1;34m\u001b[0m\n\u001b[0;32m      1\u001b[0m \u001b[0mmarksheet\u001b[0m \u001b[1;33m=\u001b[0m \u001b[1;33m[\u001b[0m\u001b[1;33m]\u001b[0m\u001b[1;33m\u001b[0m\u001b[1;33m\u001b[0m\u001b[0m\n\u001b[0;32m      2\u001b[0m \u001b[1;32mfor\u001b[0m \u001b[0m_\u001b[0m \u001b[1;32min\u001b[0m \u001b[0mrange\u001b[0m\u001b[1;33m(\u001b[0m\u001b[1;36m0\u001b[0m\u001b[1;33m,\u001b[0m\u001b[0mint\u001b[0m\u001b[1;33m(\u001b[0m\u001b[0minput\u001b[0m\u001b[1;33m(\u001b[0m\u001b[1;33m)\u001b[0m\u001b[1;33m)\u001b[0m\u001b[1;33m)\u001b[0m\u001b[1;33m:\u001b[0m\u001b[1;33m\u001b[0m\u001b[1;33m\u001b[0m\u001b[0m\n\u001b[1;32m----> 3\u001b[1;33m     \u001b[0mmarksheet\u001b[0m\u001b[1;33m.\u001b[0m\u001b[0mappend\u001b[0m\u001b[1;33m(\u001b[0m\u001b[1;33m[\u001b[0m\u001b[0minput\u001b[0m\u001b[1;33m(\u001b[0m\u001b[1;33m)\u001b[0m\u001b[1;33m,\u001b[0m \u001b[0mfloat\u001b[0m\u001b[1;33m(\u001b[0m\u001b[0minput\u001b[0m\u001b[1;33m(\u001b[0m\u001b[1;33m)\u001b[0m\u001b[1;33m)\u001b[0m\u001b[1;33m]\u001b[0m\u001b[1;33m)\u001b[0m\u001b[1;33m\u001b[0m\u001b[1;33m\u001b[0m\u001b[0m\n\u001b[0m\u001b[0;32m      4\u001b[0m \u001b[1;33m\u001b[0m\u001b[0m\n\u001b[0;32m      5\u001b[0m \u001b[0msecond_highest\u001b[0m \u001b[1;33m=\u001b[0m \u001b[0msorted\u001b[0m\u001b[1;33m(\u001b[0m\u001b[0mlist\u001b[0m\u001b[1;33m(\u001b[0m\u001b[0mset\u001b[0m\u001b[1;33m(\u001b[0m\u001b[1;33m[\u001b[0m\u001b[0mmarks\u001b[0m \u001b[1;32mfor\u001b[0m \u001b[0mname\u001b[0m\u001b[1;33m,\u001b[0m \u001b[0mmarks\u001b[0m \u001b[1;32min\u001b[0m \u001b[0mmarksheet\u001b[0m\u001b[1;33m]\u001b[0m\u001b[1;33m)\u001b[0m\u001b[1;33m)\u001b[0m\u001b[1;33m)\u001b[0m\u001b[1;33m[\u001b[0m\u001b[1;36m1\u001b[0m\u001b[1;33m]\u001b[0m\u001b[1;33m\u001b[0m\u001b[1;33m\u001b[0m\u001b[0m\n",
      "\u001b[1;31mValueError\u001b[0m: could not convert string to float: 'rtyr'"
     ]
    }
   ],
   "source": [
    "marksheet = []\n",
    "for _ in range(0,int(input())):\n",
    "    marksheet.append([input(), float(input())])\n",
    "\n",
    "second_highest = sorted(list(set([marks for name, marks in marksheet])))[1]\n",
    "print('\\n'.join([a for a,b in sorted(marksheet) if b == second_highest]))\n"
   ]
  },
  {
   "cell_type": "code",
   "execution_count": null,
   "metadata": {},
   "outputs": [
    {
     "name": "stdout",
     "output_type": "stream",
     "text": [
      "2\n",
      "acc\n"
     ]
    }
   ],
   "source": [
    "# if __name__ == '__main__':\n",
    "students = []\n",
    "for _ in range(int(input())):\n",
    "    name = input()\n",
    "    score = float(input())\n",
    "    students.append([name,score]) \n",
    "x = 99999\n",
    "for i in range(len(students)):\n",
    "    if x > float(students[i][1]):\n",
    "        x = float(students[i][1])\n",
    "y = 999999\n",
    "for i in range(len(students)):\n",
    "    if float(students[i][1]) > float(x) and y > float(students[i][1]):\n",
    "        y = float(students[i][1])\n",
    "runner = []\n",
    "for i in range(len(students)):\n",
    "    if float(students[i][1]) == float(y):\n",
    "        runner.append(students[i][0])\n",
    "runner = sorted(runner)\n",
    "\n",
    "for i in range(len(runner)):\n",
    "    print(runner[i])\n"
   ]
  },
  {
   "cell_type": "code",
   "execution_count": null,
   "metadata": {},
   "outputs": [],
   "source": [
    "d={} #1\n",
    "for _ in range(int(raw_input())): #2\n",
    "    Name=raw_input() #3\n",
    "    Grade=float(raw_input()) #4\n",
    "    d[Name]=Grade #5\n",
    "v=d.values()#6\n",
    "second=sorted(list(set(v)))[1] #7\n",
    "second_lowest=[] #8\n",
    "for key,value in d.items():  #9\n",
    "    if value==second: #10\n",
    "        second_lowest.append(key) #11\n",
    "second_lowest.sort() #12\n",
    "for name in second_lowest: #13\n",
    "    print name #14"
   ]
  },
  {
   "cell_type": "code",
   "execution_count": null,
   "metadata": {},
   "outputs": [],
   "source": [
    ") Empty dictionary.\n",
    "\n",
    "@2) Range for number of students.\n",
    "\n",
    "@3) Accepting name of the student.\n",
    "\n",
    "@4) Accepting the grade of the student.\n",
    "\n",
    "@5) Assigning name as key and grade as value for the dictionary.\n",
    "\n",
    "@6) Obtaining the values of dictionary(all grades of students.\n",
    "\n",
    "@7) Remoing duplicte grades by using set data type , changing it to list, sorting in ascending order and taking the second lowest grade.\n",
    "\n",
    "@8) Declaring an empty list for storing the name of the students who got the second lowest grade.\n",
    "\n",
    "@9) Going through the name and grade of each students by using items() method of dictionary.\n",
    "\n",
    "@10) Checking whether the grade is equal to the second lowest grade.\n",
    "\n",
    "@11) If yes , append it to the second_lowest list.\n",
    "\n",
    "@12) bSorting the name of students in asceding order\n",
    "\n",
    "@13) Going through the name of each students who got the second lowes grade.\n",
    "\n",
    "@14) Printing each name of students in seperate line."
   ]
  }
 ],
 "metadata": {
  "kernelspec": {
   "display_name": "Python 3",
   "language": "python",
   "name": "python3"
  },
  "language_info": {
   "codemirror_mode": {
    "name": "ipython",
    "version": 3
   },
   "file_extension": ".py",
   "mimetype": "text/x-python",
   "name": "python",
   "nbconvert_exporter": "python",
   "pygments_lexer": "ipython3",
   "version": "3.7.4"
  }
 },
 "nbformat": 4,
 "nbformat_minor": 2
}
