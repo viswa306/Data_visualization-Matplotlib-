{
 "cells": [
  {
   "cell_type": "markdown",
   "metadata": {},
   "source": [
    "### Basics of Python\n",
    "\n",
    "Fill valid code/values in place of blanks. "
   ]
  },
  {
   "cell_type": "raw",
   "metadata": {},
   "source": [
    "# Demo\n",
    "# initialize variable 'msg' with the string 'Hello World'\n",
    "msg = _____\n",
    "\n",
    "# Solution\n",
    "msg = \"Hello World\""
   ]
  },
  {
   "cell_type": "code",
   "execution_count": null,
   "metadata": {},
   "outputs": [],
   "source": [
    "# initialize variables 'a' and 'b' with 5 and 6 respectively\n",
    "a = 5 \n",
    "b = 6\n",
    "# add 'a' and 'b' and assign the result into a new variable 'c'\n",
    "c = a + b\n",
    "print(c)"
   ]
  },
  {
   "cell_type": "code",
   "execution_count": null,
   "metadata": {},
   "outputs": [],
   "source": [
    "# build a function to add 2 numbers\n",
    "def addition(x,y):\n",
    "    return(x+y)\n",
    "\n",
    "# use the function 'addition' to add 'a' and 'b'\n",
    "addition(4,5)"
   ]
  },
  {
   "cell_type": "code",
   "execution_count": null,
   "metadata": {},
   "outputs": [],
   "source": [
    "# create a list consisting of first 5 even numbers and print the list\n",
    "my_list = [10,20,30,40,50]\n",
    "print(my_list)"
   ]
  },
  {
   "cell_type": "code",
   "execution_count": null,
   "metadata": {},
   "outputs": [],
   "source": [
    "# access the 3rd element of the list 'my_list'\n",
    "my_list[2]"
   ]
  },
  {
   "cell_type": "code",
   "execution_count": null,
   "metadata": {},
   "outputs": [],
   "source": [
    "# given below is a dictionary having 4 unique keys, i.e., 'name', 'age', 'gender', 'is_employed'\n",
    "my_dict = {'name':'Smith',\n",
    "           'age':34,\n",
    "           'gender': 'Male',\n",
    "           'is_employed': False}\n",
    "\n",
    "# print 'my_dict'\n",
    "print(my_dict)"
   ]
  },
  {
   "cell_type": "code",
   "execution_count": null,
   "metadata": {},
   "outputs": [],
   "source": [
    "# access value under 'name' key from 'my_dict'\n",
    "my_dict['name']"
   ]
  },
  {
   "cell_type": "code",
   "execution_count": null,
   "metadata": {},
   "outputs": [],
   "source": [
    "# update 'is_employed' key to True\n",
    "my_dict.update({'is_employed': True})\n",
    "\n",
    "# print the updated dictionary\n",
    "print(my_dict)"
   ]
  },
  {
   "cell_type": "code",
   "execution_count": null,
   "metadata": {},
   "outputs": [],
   "source": [
    "# use a for loop to print only even numbers from the first 20 numbers, i.e. 1-20\n",
    "for i in range(1,21):\n",
    "    if i % 2 == 0:\n",
    "        print(i)"
   ]
  },
  {
   "cell_type": "markdown",
   "metadata": {},
   "source": [
    "### Please download the file \"data_python.csv\"."
   ]
  },
  {
   "cell_type": "code",
   "execution_count": null,
   "metadata": {},
   "outputs": [],
   "source": [
    "# import required libraries\n",
    "import pandas as pd\n",
    "import numpy as np"
   ]
  },
  {
   "cell_type": "code",
   "execution_count": null,
   "metadata": {},
   "outputs": [],
   "source": [
    "## read data_python.csv using pandas\n",
    "mydata = pd.read_csv(\"data_python.csv\")"
   ]
  },
  {
   "cell_type": "code",
   "execution_count": null,
   "metadata": {},
   "outputs": [],
   "source": [
    "## print the number of rows and number of columns of mydata\n",
    "mydata.shape"
   ]
  },
  {
   "cell_type": "code",
   "execution_count": null,
   "metadata": {},
   "outputs": [],
   "source": [
    "## assign a variable 'target' with the 'Loan_Status' feature from mydata dataframe\n",
    "target = mydata['Loan_Status']"
   ]
  },
  {
   "cell_type": "code",
   "execution_count": null,
   "metadata": {},
   "outputs": [],
   "source": [
    "## print the datatype of ApplicantIncome feature\n",
    "print(mydata['ApplicantIncome'].dtype)"
   ]
  },
  {
   "cell_type": "code",
   "execution_count": null,
   "metadata": {},
   "outputs": [],
   "source": [
    "## conditional statement - print 'Yes' if the 21st element of 'Education' feature is 'Graduate' else print 'No'\n",
    "if(mydata['Education'][20] == 'Graduate'):\n",
    "    print('yes')\n",
    "else:\n",
    "    print('No')   "
   ]
  },
  {
   "cell_type": "code",
   "execution_count": null,
   "metadata": {},
   "outputs": [],
   "source": [
    "## print 31st to 35th rows of mydata\n",
    "mydata.iloc[31:36]"
   ]
  },
  {
   "cell_type": "code",
   "execution_count": null,
   "metadata": {},
   "outputs": [],
   "source": [
    "## print first 5 rows of 2nd and 3rd column only\n",
    "mydata.iloc[:6,1:3]"
   ]
  },
  {
   "cell_type": "code",
   "execution_count": null,
   "metadata": {},
   "outputs": [],
   "source": [
    "def fun(x):\n",
    "    x[0]=5\n",
    "    return(x)\n",
    "g =[10,11,12]\n",
    "print(fun(g),g)"
   ]
  },
  {
   "cell_type": "code",
   "execution_count": null,
   "metadata": {},
   "outputs": [],
   "source": [
    "import time\n",
    "str ='21/01/2017'\n",
    "date_time_value =time.strptime(str,\"%d/%m/%Y\")"
   ]
  },
  {
   "cell_type": "code",
   "execution_count": null,
   "metadata": {},
   "outputs": [],
   "source": [
    "a = [1,2,3,4,5]\n",
    "\n",
    "b = [6,7,8,9]\n",
    "c=a.extend(b)\n",
    "print(c)\n"
   ]
  },
  {
   "cell_type": "code",
   "execution_count": null,
   "metadata": {},
   "outputs": [],
   "source": [
    "a = [1,2,3,4,5]\n",
    "\n",
    "b = [6,7,8,9]\n",
    "a.append(b)\n",
    "print(c)\n"
   ]
  },
  {
   "cell_type": "code",
   "execution_count": null,
   "metadata": {},
   "outputs": [],
   "source": [
    "my_set ={1,True}\n",
    "\n",
    "print(my_set)"
   ]
  },
  {
   "cell_type": "code",
   "execution_count": null,
   "metadata": {},
   "outputs": [],
   "source": [
    "#What is the output of the following program?\n",
    "\n",
    "L1 = [10, 20, 30, 40]\n",
    "\n",
    "L2 = L1\n",
    "\n",
    "L3 = L1.copy()\n",
    "\n",
    "L4 = list(L1)\n",
    "\n",
    "L1[0] = [50]\n",
    "\n",
    "print(L1, L2, L3, L4)\n",
    "print(L2)\n",
    "print(L3)\n",
    "print(L4)"
   ]
  },
  {
   "cell_type": "code",
   "execution_count": null,
   "metadata": {},
   "outputs": [],
   "source": [
    "print(bool(0), bool(1.11), bool(-5))"
   ]
  },
  {
   "cell_type": "code",
   "execution_count": null,
   "metadata": {},
   "outputs": [],
   "source": [
    "for i in range(1,10):\n",
    "    if(i==5):\n",
    "        pass\n",
    "    else:\n",
    "        print(i,end =\"\")"
   ]
  },
  {
   "cell_type": "code",
   "execution_count": null,
   "metadata": {},
   "outputs": [],
   "source": [
    "#find  student marks percentages:\n",
    "if __name__ == '__main__':\n",
    "    n = int(input())\n",
    "    student_marks = {}\n",
    "    for _ in range(n):\n",
    "        name, *line = input().split()\n",
    "        scores = list(map(float, line))\n",
    "        student_marks[name] = scores\n",
    "    query_name = input()\n",
    "    if query_name in student_marks:\n",
    "        x = ((float(student_marks[query_name][0]) + float(student_marks[query_name][1]) + float(student_marks[query_name][2])) / 3)\n",
    "    \n",
    "    print('%.2f' % x)"
   ]
  },
  {
   "cell_type": "code",
   "execution_count": null,
   "metadata": {},
   "outputs": [],
   "source": [
    "#find  student marks percentages:\n",
    "if __name__ == '__main__':\n",
    "    n = int(input())\n",
    "    student_marks = {}\n",
    "    for _ in range(n):\n",
    "        name, *line = input().split()\n",
    "        print(\"name\")\n",
    "        scores = list(map(float, line))\n",
    "        student_marks[name] = scores\n",
    "    query_name = input()"
   ]
  },
  {
   "cell_type": "code",
   "execution_count": null,
   "metadata": {},
   "outputs": [],
   "source": [
    "#find  student marks percentages:\n",
    "if __name__ == '__main__':\n",
    "    n = int(input())\n",
    "    student_marks = {}\n",
    "    for _ in range(n):\n",
    "        name, *line = input().split()\n",
    "        print(\"name\" ,name)\n",
    "        print(*line)\n",
    "        scores = list(map(float,line))\n",
    "        print(scores)\n",
    "        student_marks[name] = scores\n",
    "        print(student_marks[name])"
   ]
  },
  {
   "cell_type": "code",
   "execution_count": null,
   "metadata": {},
   "outputs": [],
   "source": [
    "# print * in the pattren\n",
    "for i in range(5):\n",
    "    for j in range(10):\n",
    "        print(\"*\",end =\" \")\n",
    "    print()\n",
    "  "
   ]
  },
  {
   "cell_type": "code",
   "execution_count": null,
   "metadata": {},
   "outputs": [],
   "source": [
    "#Write code that will print the following:\n",
    "# 0 1 2 3 4 5 6 7 8 9\n",
    "# 0 1 2 3 4 5 6 7 8 9\n",
    "# 0 1 2 3 4 5 6 7 8 9\n",
    "# 0 1 2 3 4 5 6 7 8 9\n",
    "# 0 1 2 3 4 5 6 7 8 9\n",
    "# 0 1 2 3 4 5 6 7 8 9\n",
    "\n",
    "for i in range(10):\n",
    "#     print(i,end=\" \")\n",
    "    for j in range(10):\n",
    "        print(j,end =\" \")\n",
    "    print()\n",
    "\n",
    "              "
   ]
  },
  {
   "cell_type": "code",
   "execution_count": null,
   "metadata": {},
   "outputs": [],
   "source": [
    "# Adjust the prior program to print:\n",
    "# 0 0 0 0 0 0 0 0 0 0\n",
    "# 1 1 1 1 1 1 1 1 1 1\n",
    "# 2 2 2 2 2 2 2 2 2 2\n",
    "# 3 3 3 3 3 3 3 3 3 3\n",
    "# 4 4 4 4 4 4 4 4 4 4\n",
    "count =0\n",
    "for row in range(10):\n",
    "    for column in range(10):\n",
    "        print(row,end =\" \")\n",
    "    print()\n",
    "            \n",
    "        "
   ]
  },
  {
   "cell_type": "code",
   "execution_count": null,
   "metadata": {},
   "outputs": [],
   "source": [
    "# Write code that will print the following:\n",
    "# 0\n",
    "# 0 1\n",
    "# 0 1 2\n",
    "# 0 1 2 3\n",
    "# 0 1 2 3 4\n",
    "# 0 1 2 3 4 5\n",
    "# 0 1 2 3 4 5 6\n",
    "# 0 1 2 3 4 5 6 7\n",
    "# 0 1 2 3 4 5 6 7 8\n",
    "# 0 1 2 3 4 5 6 7 8 9\n",
    "\n",
    "for row in range(10):\n",
    "    for column in range(row+1):\n",
    "        print(column,end =\" \")\n",
    "    print()\n",
    "        "
   ]
  },
  {
   "cell_type": "code",
   "execution_count": null,
   "metadata": {},
   "outputs": [],
   "source": [
    "for row in range(10):\n",
    "    for j in range(row):\n",
    "        print(\" \",end =\" \")\n",
    "    for j in range(10-row):\n",
    "        print(j, end=\" \")\n",
    "    print()\n",
    "   "
   ]
  },
  {
   "cell_type": "code",
   "execution_count": null,
   "metadata": {},
   "outputs": [],
   "source": [
    "for i in range(1,10):\n",
    "    \n",
    "    for j in range(1,10):\n",
    "        if i*j <10:\n",
    "            print(\" \",end =\"\")\n",
    "        print(i*j, end =\" \")\n",
    "        \n",
    "    print()"
   ]
  },
  {
   "cell_type": "code",
   "execution_count": null,
   "metadata": {},
   "outputs": [],
   "source": [
    "# Write code that will print the following:\n",
    "#                   1\n",
    "#                 1 2 1\n",
    "#               1 2 3 2 1\n",
    "#             1 2 3 4 3 2 1\n",
    "#           1 2 3 4 5 4 3 2 1\n",
    "#         1 2 3 4 5 6 5 4 3 2 1\n",
    "#       1 2 3 4 5 6 7 6 5 4 3 2 1\n",
    "#     1 2 3 4 5 6 7 8 7 6 5 4 3 2 1\n",
    "#   1 2 3 4 5 6 7 8 9 8 7 6 5 4 3 2 1\n",
    "#     1 2 3 4 5 6 7 8 7 6 5 4 3 2 1\n",
    "#       1 2 3 4 5 6 7 6 5 4 3 2 1\n",
    "#         1 2 3 4 5 6 5 4 3 2 1\n",
    "#           1 2 3 4 5 4 3 2 1\n",
    "#             1 2 3 4 3 2 1\n",
    "#               1 2 3 2 1\n",
    "#                 1 2 1\n",
    "#                   1\n",
    "\n",
    "\n",
    "\n",
    "for i in range(10):\n",
    "    # Print leading spaces\n",
    "    for j in range(10-i):\n",
    "        print (\" \",end=\" \")\n",
    "    # Count up\n",
    "    for j in range(1,i+1):\n",
    "        print (j,end=\" \")\n",
    "    # Count down\n",
    "    for j in range(i-1,0,-1):\n",
    "        print (j,end=\" \")\n",
    "    # Next row\n",
    "    print()\n",
    " \n",
    "for i in range(10):\n",
    "    # Print leading spaces\n",
    "    for j in range(i+2):\n",
    "        print (\" \",end=\" \")\n",
    "    # Count up\n",
    "    for j in range(1,9-i):\n",
    "        print (j,end=\" \")\n",
    "    # Count down\n",
    "    for j in range(7-i,0,-1):\n",
    "        print (j,end=\" \")\n",
    "    print()\n",
    "Animate Step"
   ]
  },
  {
   "cell_type": "code",
   "execution_count": null,
   "metadata": {},
   "outputs": [],
   "source": [
    "for i in range(3):\n",
    "    print(\"*\", end=\"\")\n",
    "for j in range(3):\n",
    "    print(\"*\", end=\"\")\n"
   ]
  },
  {
   "cell_type": "code",
   "execution_count": null,
   "metadata": {},
   "outputs": [],
   "source": [
    "for i in range(3):\n",
    "    for j in range(3):\n",
    "        print(\"*\", end=\"\")\n",
    "print()"
   ]
  },
  {
   "cell_type": "code",
   "execution_count": null,
   "metadata": {},
   "outputs": [],
   "source": [
    "my_array = [5, 76, 8, 5, 3, 3, 56, 5, 23]\n",
    "array_total=0\n",
    "for i in range(len(my_array)):\n",
    "    \n",
    "    \n",
    "    array_total+= my_array[i]\n",
    "print(array_total)"
   ]
  },
  {
   "cell_type": "code",
   "execution_count": null,
   "metadata": {},
   "outputs": [],
   "source": [
    "my_array = [2, 4, 6]\n",
    "for i in range(3):\n",
    "    print(i)"
   ]
  },
  {
   "cell_type": "code",
   "execution_count": null,
   "metadata": {},
   "outputs": [],
   "source": [
    "if 3 < 4:\n",
    "    print(\"A\")\n",
    "else:\n",
    "    print(\"B\")\n",
    "print(\"C\")"
   ]
  },
  {
   "cell_type": "code",
   "execution_count": null,
   "metadata": {},
   "outputs": [],
   "source": [
    "a = True\n",
    "if a:\n",
    "    print(\"A\")\n",
    "else:\n",
    "    print(\"B\")\n",
    "print(\"C\")\n"
   ]
  },
  {
   "cell_type": "code",
   "execution_count": null,
   "metadata": {},
   "outputs": [],
   "source": [
    "for x in range(4):\n",
    "    print(\"Hello\")"
   ]
  },
  {
   "cell_type": "code",
   "execution_count": null,
   "metadata": {},
   "outputs": [],
   "source": [
    "a=0\n",
    "for i in range(10):\n",
    "    a += 1\n",
    "print(a)"
   ]
  },
  {
   "cell_type": "code",
   "execution_count": null,
   "metadata": {},
   "outputs": [],
   "source": [
    "a = 0\n",
    "for i in range(10):\n",
    "    print(i)\n",
    "    for j in range(10):\n",
    "        print(j)\n",
    "        a += 1\n",
    "        print(\"--------------------------\")\n",
    "print(a)"
   ]
  },
  {
   "cell_type": "code",
   "execution_count": null,
   "metadata": {},
   "outputs": [],
   "source": [
    "a = 0\n",
    "for i in range(10):\n",
    "    a += 1\n",
    "    for j in range(10):\n",
    "        a += 1\n",
    "print(a)"
   ]
  },
  {
   "cell_type": "code",
   "execution_count": null,
   "metadata": {},
   "outputs": [],
   "source": [
    "numbers =[]\n",
    "string=[]\n",
    "names=[\"syam\",\"mohith\",\"chinna\"]\n",
    "second_name = names[2]\n",
    "numbers.append(1)\n",
    "numbers.append(2)\n",
    "numbers.append(3)\n",
    "\n",
    "string.append(\"hello\")\n",
    "string.append(\"world\")\n",
    "print(numbers)\n",
    "print(string)\n",
    "print(\"The second name on the names list is %s\",second_name)"
   ]
  },
  {
   "cell_type": "code",
   "execution_count": null,
   "metadata": {},
   "outputs": [],
   "source": [
    "even_num=[2,4,6,8]\n",
    "odd_num=[3,5,7,9]\n",
    "total= even_num+odd_num\n",
    "print(total)"
   ]
  },
  {
   "cell_type": "code",
   "execution_count": null,
   "metadata": {},
   "outputs": [],
   "source": [
    "print([total]*3)"
   ]
  },
  {
   "cell_type": "code",
   "execution_count": null,
   "metadata": {},
   "outputs": [],
   "source": [
    "x= object()\n",
    "y=object()\n",
    "x_list =[x]*10\n",
    "y_list =[y]*10\n",
    "big_list =x_list+y_list\n",
    "\n",
    "print(\"x_list contains% d objects\", len(x_list))\n",
    "print(\"y_list contains %d objects\" , len(y_list))\n",
    "print(\"big_list contains %d objects\",  len(big_list))\n",
    "\n",
    "if x_list.count(x)==10 and y_list.count(y)==10:\n",
    "    print(\"Almost there..\")\n",
    "    if big_list.count(x)== 10 and big_list.count(y)==10:\n",
    "        print(\"great!\")\n"
   ]
  },
  {
   "cell_type": "code",
   "execution_count": null,
   "metadata": {},
   "outputs": [],
   "source": [
    "name =\"john\"\n",
    "print(f\"name:{name}\")"
   ]
  },
  {
   "cell_type": "code",
   "execution_count": null,
   "metadata": {},
   "outputs": [],
   "source": [
    "data = (\"John\", \"Doe\", 53.44)\n",
    "format_string = \"Hello %s %s. Your current balance is $%s.\"\n",
    "print(format_string)"
   ]
  },
  {
   "cell_type": "code",
   "execution_count": null,
   "metadata": {},
   "outputs": [],
   "source": [
    "astring = \"Hello orld!\"\n",
    "afewwords = astring.split(\" \")\n",
    "print(afewwords)"
   ]
  },
  {
   "cell_type": "code",
   "execution_count": null,
   "metadata": {},
   "outputs": [],
   "source": [
    "# Arithemetic operators\n",
    "if __name__ == '__main__':\n",
    "# if__name__ =='__main__':\n",
    "    \n",
    "    a = int(input())\n",
    "    b = int(input())\n",
    "    print('{0}\\n{1}\\n{2}'.format((a+b),(a-b),(a*b)))"
   ]
  },
  {
   "cell_type": "code",
   "execution_count": 1,
   "metadata": {},
   "outputs": [
    {
     "name": "stdout",
     "output_type": "stream",
     "text": [
      "4\n",
      "0\n",
      "1\n",
      "4\n",
      "9\n"
     ]
    }
   ],
   "source": [
    "if __name__ == '__main__' :\n",
    "   n = int(input()) \n",
    "for i in range(n):\n",
    "    print(i*i)\n",
    "    "
   ]
  },
  {
   "cell_type": "code",
   "execution_count": 13,
   "metadata": {},
   "outputs": [
    {
     "name": "stdout",
     "output_type": "stream",
     "text": [
      "4\n",
      "[0, 1, 2, 3]\n"
     ]
    }
   ],
   "source": [
    "#Two sum\n",
    "# Input: nums = [2,7,11,15], target = 9\n",
    "# Output: [0,1]\n",
    "# Output: Because nums[0] + nums[1] == 9, we return [0, 1].\n",
    "\n",
    "nums =[2,7,11,15]\n",
    "target = 9\n",
    "samplelst=[]\n",
    "numLens = len(nums)\n",
    "index = list(range(numLens))\n",
    "print(numLens)\n",
    "print(index)\n"
   ]
  },
  {
   "cell_type": "code",
   "execution_count": 28,
   "metadata": {},
   "outputs": [],
   "source": [
    "arr1 =[1,3,5,6]\n",
    "target1 = 8\n",
    "def two_sum(arr,target):\n",
    "    values= dict()\n",
    "    for i,elem in enumerate(arr):\n",
    "        comp = target-elem\n",
    "        if comp in values:\n",
    "            return [values[comp],i]\n",
    "        values[elem] = i\n",
    "        return[]"
   ]
  },
  {
   "cell_type": "code",
   "execution_count": 29,
   "metadata": {},
   "outputs": [
    {
     "name": "stdout",
     "output_type": "stream",
     "text": [
      "[]\n",
      "[]\n"
     ]
    }
   ],
   "source": [
    "arr2 =[4,7,2,6]\n",
    "target2 =12\n",
    "list1= two_sum(arr1,target1)\n",
    "list2 = two_sum(arr2,target2)\n",
    "print(list1)\n",
    "print(list2)"
   ]
  }
 ],
 "metadata": {
  "kernelspec": {
   "display_name": "Python 3",
   "language": "python",
   "name": "python3"
  },
  "language_info": {
   "codemirror_mode": {
    "name": "ipython",
    "version": 3
   },
   "file_extension": ".py",
   "mimetype": "text/x-python",
   "name": "python",
   "nbconvert_exporter": "python",
   "pygments_lexer": "ipython3",
   "version": "3.7.4"
  }
 },
 "nbformat": 4,
 "nbformat_minor": 2
}
