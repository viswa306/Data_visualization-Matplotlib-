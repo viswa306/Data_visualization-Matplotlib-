{
 "cells": [
  {
   "cell_type": "code",
   "execution_count": 1,
   "metadata": {},
   "outputs": [],
   "source": [
    "# Import dependencies\n",
    "import pandas as pd\n",
    "import numpy as np"
   ]
  },
  {
   "cell_type": "code",
   "execution_count": 3,
   "metadata": {},
   "outputs": [
    {
     "data": {
      "text/plain": [
       "array([1, 2, 3, 4])"
      ]
     },
     "execution_count": 3,
     "metadata": {},
     "output_type": "execute_result"
    }
   ],
   "source": [
    "#first numpy array\n",
    "first_array = np.array([1,2,3,4])\n",
    "first_array"
   ]
  },
  {
   "cell_type": "code",
   "execution_count": 7,
   "metadata": {},
   "outputs": [
    {
     "data": {
      "text/plain": [
       "array([[0., 0., 0.],\n",
       "       [0., 0., 0.],\n",
       "       [0., 0., 0.]])"
      ]
     },
     "execution_count": 7,
     "metadata": {},
     "output_type": "execute_result"
    }
   ],
   "source": [
    "#array with Zeros\n",
    "array = np.zeros((3,3))\n",
    "array"
   ]
  },
  {
   "cell_type": "code",
   "execution_count": 9,
   "metadata": {},
   "outputs": [
    {
     "data": {
      "text/plain": [
       "array([[1., 1., 1.],\n",
       "       [1., 1., 1.],\n",
       "       [1., 1., 1.]])"
      ]
     },
     "execution_count": 9,
     "metadata": {},
     "output_type": "execute_result"
    }
   ],
   "source": [
    "#array with ones\n",
    "array_ones = np.ones((3,3))\n",
    "array_ones "
   ]
  },
  {
   "cell_type": "code",
   "execution_count": 10,
   "metadata": {},
   "outputs": [
    {
     "data": {
      "text/plain": [
       "array([ 0,  1,  2,  3,  4,  5,  6,  7,  8,  9, 10, 11])"
      ]
     },
     "execution_count": 10,
     "metadata": {},
     "output_type": "execute_result"
    }
   ],
   "source": [
    "np_arange = np.arange(12)\n",
    "np_arange"
   ]
  },
  {
   "cell_type": "code",
   "execution_count": 66,
   "metadata": {},
   "outputs": [
    {
     "name": "stdout",
     "output_type": "stream",
     "text": [
      "[[0.00000000e+000 0.00000000e+000]\n",
      " [0.00000000e+000 0.00000000e+000]\n",
      " [0.00000000e+000 1.03753786e-320]\n",
      " [7.69166865e+218 1.05940678e+189]]\n"
     ]
    }
   ],
   "source": [
    "# create a 4*2 integer array and prints its attributes\n",
    "#The element must be a type of unsigned int16\n",
    "import numpy\n",
    "firstarray = numpy.empty([4,2])\n",
    "print(firstarray)\n"
   ]
  },
  {
   "cell_type": "code",
   "execution_count": 67,
   "metadata": {},
   "outputs": [
    {
     "name": "stdout",
     "output_type": "stream",
     "text": [
      " print numpy array attributes\n",
      "1> array shape is:  (4, 2)\n",
      "2> array dimensions are: 2\n",
      "3> length of each element of array in bytes is 8\n"
     ]
    }
   ],
   "source": [
    "print(\" print numpy array attributes\")\n",
    "print(\"1> array shape is: \",firstarray.shape)\n",
    "print(\"2> array dimensions are:\",firstarray.ndim)\n",
    "print(\"3> length of each element of array in bytes is\",firstarray.itemsize)\n"
   ]
  },
  {
   "cell_type": "code",
   "execution_count": 68,
   "metadata": {},
   "outputs": [
    {
     "name": "stdout",
     "output_type": "stream",
     "text": [
      "[100 110 120 130 140 150 160 170 180 190]\n",
      "[[100 110]\n",
      " [120 130]\n",
      " [140 150]\n",
      " [160 170]\n",
      " [180 190]]\n"
     ]
    }
   ],
   "source": [
    "# create 5*2 integer array from a range between 100 to 200 such that the difference between each element is 10\n",
    "secarray = numpy.arange(100,200,10)\n",
    "print(secarray)\n",
    "samplearray = secarray.reshape(5,2)\n",
    "print(samplearray)\n"
   ]
  },
  {
   "cell_type": "code",
   "execution_count": 69,
   "metadata": {},
   "outputs": [
    {
     "name": "stdout",
     "output_type": "stream",
     "text": [
      "[[11 22 33]\n",
      " [44 55 66]\n",
      " [77 88 99]]\n",
      "[33 66 99]\n"
     ]
    }
   ],
   "source": [
    "#following is the provided numpyarray.return array of item in the third column from all rows\n",
    "sampleArray = numpy.array([[11 ,22, 33], [44, 55, 66], [77, 88, 99]])\n",
    "print(sampleArray)\n",
    "\n",
    "newarray =sampleArray[:,2]\n",
    "print(newarray)\n"
   ]
  },
  {
   "cell_type": "code",
   "execution_count": 70,
   "metadata": {},
   "outputs": [
    {
     "name": "stdout",
     "output_type": "stream",
     "text": [
      "[[ 6 12]\n",
      " [30 36]\n",
      " [54 60]]\n"
     ]
    }
   ],
   "source": [
    "# Following is given numpy array return array of odd rows and even columns\n",
    "sampleArray = numpy.array([[3 ,6, 9, 12], [15 ,18, 21, 24], \n",
    "[27 ,30, 33, 36], [39 ,42, 45, 48], [51 ,54, 57, 60]])\n",
    "newarray = sampleArray[::2,1::2]\n",
    "print(newarray)\n"
   ]
  },
  {
   "cell_type": "code",
   "execution_count": 75,
   "metadata": {},
   "outputs": [
    {
     "name": "stdout",
     "output_type": "stream",
     "text": [
      "[[ 20  39  33  11]\n",
      " [ 25  25  28  19]\n",
      " [ 55  77  99 121]]\n"
     ]
    }
   ],
   "source": [
    "# Add the following  two numpy arrays and modify a result array by calculating the sqaure of each element\n",
    "arrayOne = numpy.array([[5, 6, 9,6], [21 ,18, 27,13],[11 ,22, 33,44]])\n",
    "arrayTwo = numpy.array([[15 ,33, 24,5], [4 ,7, 1,6],[44, 55, 66,77]])\n",
    "newarray = arrayOne + arrayTwo\n",
    "print(newarray)\n"
   ]
  },
  {
   "cell_type": "code",
   "execution_count": 76,
   "metadata": {},
   "outputs": [
    {
     "name": "stdout",
     "output_type": "stream",
     "text": [
      "[[20 39]\n",
      " [25 25]]\n"
     ]
    }
   ],
   "source": [
    "# Add the following  two numpy arrays and modify a result array by calculating the sqaure of each element\n",
    "arrayOne = numpy.array([[5, 6], [21 ,18]])\n",
    "arrayTwo = numpy.array([[15 ,33], [4 ,7]])\n",
    "newarray = arrayOne + arrayTwo\n",
    "print(newarray)\n"
   ]
  },
  {
   "cell_type": "code",
   "execution_count": 74,
   "metadata": {},
   "outputs": [
    {
     "name": "stdout",
     "output_type": "stream",
     "text": [
      "[[    1296    20736]\n",
      " [  810000  1679616]\n",
      " [ 8503056 12960000]]\n"
     ]
    }
   ],
   "source": [
    "for n in numpy.nditer(newarray,op_flags =['readwrite']):\n",
    "    n[...] = n*n\n",
    "\n",
    "print(newarray)\n"
   ]
  },
  {
   "cell_type": "code",
   "execution_count": 73,
   "metadata": {},
   "outputs": [
    {
     "name": "stdout",
     "output_type": "stream",
     "text": [
      "[[  36  144]\n",
      " [ 900 1296]\n",
      " [2916 3600]]\n"
     ]
    }
   ],
   "source": [
    "for n in numpy.nditer(newarray,op_flags =['readwrite']):\n",
    "    n[...] = n*n\n",
    "print(newarray)\n"
   ]
  },
  {
   "cell_type": "code",
   "execution_count": 71,
   "metadata": {},
   "outputs": [
    {
     "name": "stdout",
     "output_type": "stream",
     "text": [
      "[[10 11 12]\n",
      " [13 14 15]\n",
      " [16 17 18]\n",
      " [19 20 21]\n",
      " [22 23 24]\n",
      " [25 26 27]\n",
      " [28 29 30]\n",
      " [31 32 33]]\n",
      "[array([[10, 11, 12],\n",
      "       [13, 14, 15]]), array([[16, 17, 18],\n",
      "       [19, 20, 21]]), array([[22, 23, 24],\n",
      "       [25, 26, 27]]), array([[28, 29, 30],\n",
      "       [31, 32, 33]])]\n"
     ]
    }
   ],
   "source": [
    "# split the array into four equal size subarrays\n",
    "samplearray = numpy.arange(10,34,1)\n",
    "samplearray = samplearray.reshape(8,3)\n",
    "print(samplearray)\n",
    "subarray = numpy.split(samplearray,4)\n",
    "print(subarray)\n"
   ]
  },
  {
   "cell_type": "code",
   "execution_count": 72,
   "metadata": {},
   "outputs": [
    {
     "name": "stdout",
     "output_type": "stream",
     "text": [
      "[[34 43 73]\n",
      " [82 22 12]\n",
      " [53 94 66]]\n",
      "Sorting Original array by second row\n",
      "[[73 43 34]\n",
      " [12 22 82]\n",
      " [66 94 53]]\n",
      "[[82 22 12]\n",
      " [34 43 73]\n",
      " [53 94 66]]\n"
     ]
    }
   ],
   "source": [
    "# sort the following numpy array\n",
    "sampleArray = numpy.array([[34,43,73],[82,22,12],[53,94,66]])\n",
    "print(sampleArray)\n",
    "sortbyrow = sampleArray[:,sampleArray[1,:].argsort()]\n",
    "print(\"Sorting Original array by second row\")\n",
    "print(sortbyrow)\n",
    "sortbycolumn = sampleArray[sampleArray[:,1].argsort()]\n",
    "print(sortbycolumn)\n"
   ]
  },
  {
   "cell_type": "code",
   "execution_count": null,
   "metadata": {},
   "outputs": [],
   "source": []
  },
  {
   "cell_type": "code",
   "execution_count": null,
   "metadata": {},
   "outputs": [],
   "source": []
  }
 ],
 "metadata": {
  "kernelspec": {
   "display_name": "Python 3",
   "language": "python",
   "name": "python3"
  },
  "language_info": {
   "codemirror_mode": {
    "name": "ipython",
    "version": 3
   },
   "file_extension": ".py",
   "mimetype": "text/x-python",
   "name": "python",
   "nbconvert_exporter": "python",
   "pygments_lexer": "ipython3",
   "version": "3.7.4"
  }
 },
 "nbformat": 4,
 "nbformat_minor": 2
}
