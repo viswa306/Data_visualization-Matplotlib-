{
 "cells": [
  {
   "cell_type": "code",
   "execution_count": null,
   "metadata": {},
   "outputs": [],
   "source": [
    "#import  dependencies\n",
    "import pandas as pd"
   ]
  },
  {
   "cell_type": "code",
   "execution_count": null,
   "metadata": {},
   "outputs": [],
   "source": [
    "# 1: Create a function that can accept two arguments name and age and print its value\n",
    "def accpt_arug(name,age):\n",
    "    \n",
    "    Name = \" viswajani\"\n",
    "    age =40\n",
    "    \n",
    "    return(name,age)"
   ]
  },
  {
   "cell_type": "code",
   "execution_count": null,
   "metadata": {},
   "outputs": [],
   "source": [
    "accpt_arug(\"sita\",41)"
   ]
  },
  {
   "cell_type": "code",
   "execution_count": null,
   "metadata": {},
   "outputs": [],
   "source": [
    "#2: Write a function func1() such that it can accept a variable length of  argument and print all arguments value\n",
    "def var_len(arg1,arg2):\n",
    "    print(arg1,arg2)\n",
    "    for i in arg1,arg2:\n",
    "        print(i)\n",
    "    return(arg1,arg2)"
   ]
  },
  {
   "cell_type": "code",
   "execution_count": null,
   "metadata": {},
   "outputs": [],
   "source": [
    "var_len(20,30)"
   ]
  },
  {
   "cell_type": "code",
   "execution_count": null,
   "metadata": {},
   "outputs": [],
   "source": [
    "def func1(*args):\n",
    "    for i in args:\n",
    "        print(i)\n",
    "    \n",
    "func1(20,30,60)\n"
   ]
  },
  {
   "cell_type": "code",
   "execution_count": null,
   "metadata": {},
   "outputs": [],
   "source": [
    "def func1(*args):\n",
    "    for i in args:\n",
    "        print(i)\n",
    "\n",
    "func1(20, 40, 60)\n",
    "func1(80, 100)"
   ]
  },
  {
   "cell_type": "code",
   "execution_count": null,
   "metadata": {},
   "outputs": [],
   "source": [
    "# 3: Write a function calculation() such that it can accept two variables and calculate the addition and subtraction of it. And also it must return both addition and subtraction in a single return call\n",
    "\n",
    "\n",
    "def cal_fn(a,b):\n",
    "    return(a+b,a-b)\n",
    "result = cal_fn(30,40)\n",
    "print(result)\n",
    "    \n",
    "        "
   ]
  },
  {
   "cell_type": "code",
   "execution_count": null,
   "metadata": {},
   "outputs": [],
   "source": [
    "#4: Create a function showEmployee() in such a way that it should accept employee name, and it’s salary and display both, and if the salary is missing in function call it should show it as 9000\n",
    "\n",
    "\n",
    "\n",
    "def showemp(ename,esal):\n",
    "    if (esal>9000):\n",
    "        print(\"name of emp \",ename,\"salary\",esal)\n",
    "    else:\n",
    "        print(\"salary not greater thean 9000\")\n",
    "    \n",
    "showemp(\"syam\",1000)\n",
    "\n",
    "        "
   ]
  },
  {
   "cell_type": "code",
   "execution_count": null,
   "metadata": {},
   "outputs": [],
   "source": [
    "def showEmployee(name, salary=9000):\n",
    "    print(\"Employee\", name, \"salary is:\", salary)\n",
    "\n",
    "showEmployee(\"Ben\", 9000)\n",
    "showEmployee(\"Ben\")"
   ]
  },
  {
   "cell_type": "code",
   "execution_count": null,
   "metadata": {},
   "outputs": [],
   "source": [
    "#5: Create an inner function to calculate the addition in the following way\n",
    "def outerfn(a,b):\n",
    "    square = a**2\n",
    "    def innerfn(a,b):\n",
    "        return(a+b)\n",
    "    add= innerfn(a,b)\n",
    "    return(add+5)\n",
    "result = outerfn(5,10)\n",
    "print(result)\n"
   ]
  },
  {
   "cell_type": "code",
   "execution_count": null,
   "metadata": {},
   "outputs": [],
   "source": [
    "#6: Write a recursive function to calculate the sum of numbers from 0 to 10\n",
    "def calsum(num):\n",
    "    if num:\n",
    "        return num+ calsum(num-1)\n",
    "    else:\n",
    "        return 0\n",
    "res =calsum(30)\n",
    "print(res)\n",
    "    \n",
    "        "
   ]
  },
  {
   "cell_type": "code",
   "execution_count": null,
   "metadata": {},
   "outputs": [],
   "source": [
    "# 7: Assign a different name to function and call it through the new name\n",
    "def displaystudent(name,age):\n",
    "    print(name,age)\n",
    "    \n",
    "displaystudent(\"Emma\",26)\n",
    "\n",
    "showstudent = displaystudent\n",
    "showstudent(\"syam\",36)"
   ]
  },
  {
   "cell_type": "code",
   "execution_count": null,
   "metadata": {},
   "outputs": [],
   "source": [
    "#8: Generate a Python list of all the even numbers between 4 to 30\n",
    "def listfn(num):\n",
    "    if (num%2 == 0):\n",
    "        print (\"num is even number\",num)\n",
    "    else:\n",
    "        print (\" Number is odd\")\n",
    "       \n",
    "        "
   ]
  },
  {
   "cell_type": "code",
   "execution_count": null,
   "metadata": {},
   "outputs": [],
   "source": [
    "listfn(50)"
   ]
  },
  {
   "cell_type": "code",
   "execution_count": null,
   "metadata": {},
   "outputs": [],
   "source": [
    "print(list(range(4,30,2)))"
   ]
  },
  {
   "cell_type": "code",
   "execution_count": null,
   "metadata": {},
   "outputs": [],
   "source": [
    "# 9: Return the largest item from the given list\n",
    "alist =[4,6,78,56,45,33]\n",
    "print(max(alist))"
   ]
  },
  {
   "cell_type": "code",
   "execution_count": null,
   "metadata": {},
   "outputs": [],
   "source": [
    "for i in range(4,31):\n",
    "    if i%2 == 0:\n",
    "        print(i, end=' ')"
   ]
  },
  {
   "cell_type": "code",
   "execution_count": null,
   "metadata": {},
   "outputs": [],
   "source": [
    "for i in range(4,31):\n",
    "    if i%2 == 0:\n",
    "        print(i)"
   ]
  },
  {
   "cell_type": "code",
   "execution_count": null,
   "metadata": {},
   "outputs": [],
   "source": [
    "# class and objects\n",
    "# We have a class defined for vehicles. Create two new vehicles called car1 and car2. Set car1 to be a red convertible worth $60,000.00 with a name of Fer, and car2 to be a blue van named Jump worth $10,000.00.\n",
    "\n",
    "# define the vehicle class\n",
    "class vehicle:\n",
    "    name =\"\"\n",
    "    kind = \"car\"\n",
    "    value = 100.00\n",
    "    color =\"\"\n",
    "    def description(self):\n",
    "        desc_st =(\"Test descripotion\",self.name,self.color,self.kind,self.value)\n",
    "        return desc_st\n",
    "#your code goes here\n",
    "car1 = vehicle()\n",
    "car1.name =\"Fer\"\n",
    "car1.color =\"red\"\n",
    "car1.kind =\"convertible\"\n",
    "car1.value=600000.00\n",
    "\n",
    "car2 = vehicle()\n",
    "car2.name= \"jump\"\n",
    "car2.color =\"blue\"\n",
    "car2.kind=\"van\"\n",
    "car2.value=100000.00\n",
    "\n",
    "#test code\n",
    "print(car1.description())\n",
    "print(car2.description())"
   ]
  },
  {
   "cell_type": "code",
   "execution_count": null,
   "metadata": {},
   "outputs": [],
   "source": [
    "# dictionaries:\n",
    "phbook={}\n",
    "phbook[\"john\"] =983477556\n",
    "phbook[\"jack\"]= 982345677\n",
    "phbook[\"jill\"]=9856788890\n",
    "print(phbook)"
   ]
  },
  {
   "cell_type": "code",
   "execution_count": null,
   "metadata": {},
   "outputs": [],
   "source": [
    "phonebook = {\"John\" : 938477566,\"Jack\" : 938377264,\"Jill\" : 947662781}\n",
    "for name,number in phonebook.items():\n",
    "    print(\"phone number of :\",name,number)"
   ]
  },
  {
   "cell_type": "code",
   "execution_count": null,
   "metadata": {},
   "outputs": [],
   "source": [
    "phonebook = {\n",
    "   \"John\" : 938477566,\n",
    "   \"Jack\" : 938377264,\n",
    "   \"Jill\" : 947662781\n",
    "}\n",
    "del phonebook[\"John\"]\n",
    "print(phonebook)\n"
   ]
  },
  {
   "cell_type": "code",
   "execution_count": null,
   "metadata": {},
   "outputs": [],
   "source": [
    "phonebook = {\n",
    "   \"John\" : 938477566,\n",
    "   \"Jack\" : 938377264,\n",
    "   \"Jill\" : 947662781\n",
    "}\n",
    "phonebook.pop(\"John\")\n",
    "print(phonebook)"
   ]
  },
  {
   "cell_type": "code",
   "execution_count": null,
   "metadata": {},
   "outputs": [],
   "source": [
    "#Add \"Jake\" to the phonebook with the phone number 938273443, and remove Jill from the phonebook.\n",
    "phonebook = {  \n",
    "    \"John\" : 938477566,\n",
    "    \"Jack\" : 938377264,\n",
    "    \"Jill\" : 947662781\n",
    "}  \n",
    "\n",
    "phonebook[\"Jake\"]=985677458\n",
    "del phonebook[\"Jill\"]\n",
    "# testing code\n",
    "if \"Jake\" in phonebook:\n",
    "    print(\"Jake is listed in the phonebook\")\n",
    "if  \"Jill\" not in phonebook:\n",
    "    print(\"jill is not listed in the phonebook.\")"
   ]
  },
  {
   "cell_type": "code",
   "execution_count": null,
   "metadata": {},
   "outputs": [],
   "source": [
    "# Numpy Arrays:\n",
    "# Create 2 new lists height and weight\n",
    "height = [1.87,  1.87, 1.82, 1.91, 1.90, 1.85]\n",
    "weight = [81.65, 97.52, 95.25, 92.98, 86.18, 88.45]\n",
    "\n",
    "# import the numpy pacakage as np\n",
    "import numpy as np\n",
    "\n",
    "# Creatae 2 numpy arrays from height and weight\n",
    "np_height = np.array(height)\n",
    "print(np_height)\n",
    "np_weight = np.array(weight)\n",
    "print(np_weight)\n",
    "print(type(np_height))\n"
   ]
  },
  {
   "cell_type": "code",
   "execution_count": null,
   "metadata": {},
   "outputs": [],
   "source": [
    "#calculate BMI\n",
    "bmi = np_weight/np_height**2\n",
    "print(bmi)"
   ]
  },
  {
   "cell_type": "code",
   "execution_count": null,
   "metadata": {},
   "outputs": [],
   "source": [
    "# for a boolean response\n",
    "bmi>23\n",
    "# print only those observations above 23\n",
    "bmi[bmi>23]"
   ]
  },
  {
   "cell_type": "code",
   "execution_count": null,
   "metadata": {},
   "outputs": [],
   "source": [
    "#First, convert the list of weights from a list to a Numpy array. Then, convert all of the weights from kilograms to pounds. Use the scalar conversion of 2.2 lbs per kilogram to make your conversion. Lastly, print the resulting array of weights in pounds.\n",
    "\n",
    "weight_kg = [81.65, 97.52, 95.25, 92.98, 86.18, 88.45]\n",
    "\n",
    "import numpy as np\n",
    "\n",
    "# Create a numpy array np_weight_kg from weight_kg\n",
    "np_weight_kg = np.array(weight_kg)\n",
    "print(np_weight_kg)\n",
    "# Create np_weight_lbs from np_weight_kg\n",
    "np_weight_lbs= np_weight_kg*2.2\n",
    "print(np_weight_lbs)"
   ]
  },
  {
   "cell_type": "code",
   "execution_count": null,
   "metadata": {},
   "outputs": [],
   "source": [
    "dict = {\"country\": [\"Brazil\", \"Russia\", \"India\", \"China\", \"South Africa\"],\n",
    "       \"capital\": [\"Brasilia\", \"Moscow\", \"New Dehli\", \"Beijing\", \"Pretoria\"],\n",
    "       \"area\": [8.516, 17.10, 3.286, 9.597, 1.221],\n",
    "       \"population\": [200.4, 143.5, 1252, 1357, 52.98] }\n",
    "\n",
    "import pandas as pd\n",
    "brics = pd.DataFrame(dict)\n",
    "print(brics)\n",
    "# Set the index for brics\n",
    "brics.index = [\"BR\", \"RU\", \"IN\", \"CH\", \"SA\"]\n",
    "# Print out brics with new index values\n",
    "print(brics)\n"
   ]
  },
  {
   "cell_type": "code",
   "execution_count": null,
   "metadata": {},
   "outputs": [],
   "source": [
    "#piling up\n",
    "for t in range(int(input())):\n",
    "    input()\n",
    "    lst =[int(i) for i in input().split()]\n",
    "    min_list =lst.indx(min(lst))\n",
    "    left =lst[:min_list]\n",
    "    right =lst[min_list+1:]\n",
    "    if left == sorted(left,reverse=True) and right == sorted(right):\n",
    "        print(\"yes\")\n",
    "    else:\n",
    "        print(\"no\")\n",
    "            "
   ]
  },
  {
   "cell_type": "code",
   "execution_count": null,
   "metadata": {},
   "outputs": [],
   "source": [
    "# Print the three most common characters along with their occurrence count each on a separate line.\n",
    "# Sort output in descending order of occurrence count.\n",
    "# If the occurrence count is the same, sort the characters in alphabetical order.\n",
    "\n",
    "import math\n",
    "import os\n",
    "import random\n",
    "import re\n",
    "import sys\n",
    "\n",
    "if __name__==\"__main__\":\n",
    "    s= input()\n",
    "temp =[]\n",
    "for char in s:\n",
    "    print(char)\n",
    "    if char in temp:\n",
    "        char==cnt(char)\n",
    "        \n",
    "        \n",
    "    else:\n",
    "        temp.append(char)\n",
    "          \n",
    "print(temp)\n",
    "        \n",
    "        \n",
    "    "
   ]
  },
  {
   "cell_type": "code",
   "execution_count": null,
   "metadata": {},
   "outputs": [],
   "source": [
    "    s = input()\n",
    "    count = dict()\n",
    "    for i in range(len(s)):\n",
    "        if s[i] not in count:\n",
    "            count[s[i]]=1\n",
    "        else:\n",
    "            count[s[i]]+=1\n",
    "    s2 = sorted(sorted(count), key = count.get,reverse = True)\n",
    "    top_3 =s2[:3]\n",
    "    for j in top_3:\n",
    "        print(j, count[j])"
   ]
  },
  {
   "cell_type": "code",
   "execution_count": null,
   "metadata": {},
   "outputs": [],
   "source": [
    "if __name__ == '__main__':\n",
    "    N = int(input())\n",
    "    list(list=[])\n",
    "lit.append[1]           "
   ]
  },
  {
   "cell_type": "code",
   "execution_count": 4,
   "metadata": {},
   "outputs": [
    {
     "name": "stdout",
     "output_type": "stream",
     "text": [
      "[15, 25, 35, 45, 55, 65]\n"
     ]
    }
   ],
   "source": [
    "#Write a map function that adds plus 5 to each item in the list.\n",
    "lst1=[10, 20, 30, 40, 50, 60]\n",
    "\n",
    "\n",
    "lst2 = list(map(lambda x:x+5 ,lst1))\n",
    "\n",
    "print(lst2)"
   ]
  },
  {
   "cell_type": "code",
   "execution_count": null,
   "metadata": {},
   "outputs": [],
   "source": []
  }
 ],
 "metadata": {
  "kernelspec": {
   "display_name": "Python 3",
   "language": "python",
   "name": "python3"
  },
  "language_info": {
   "codemirror_mode": {
    "name": "ipython",
    "version": 3
   },
   "file_extension": ".py",
   "mimetype": "text/x-python",
   "name": "python",
   "nbconvert_exporter": "python",
   "pygments_lexer": "ipython3",
   "version": "3.7.4"
  }
 },
 "nbformat": 4,
 "nbformat_minor": 2
}
